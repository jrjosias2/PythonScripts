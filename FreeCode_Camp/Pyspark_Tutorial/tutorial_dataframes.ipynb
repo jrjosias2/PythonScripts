{
 "cells": [
  {
   "cell_type": "code",
   "execution_count": 2,
   "metadata": {},
   "outputs": [
    {
     "data": {
      "text/html": [
       "\n",
       "            <div>\n",
       "                <p><b>SparkSession - in-memory</b></p>\n",
       "                \n",
       "        <div>\n",
       "            <p><b>SparkContext</b></p>\n",
       "\n",
       "            <p><a href=\"http://host.docker.internal:4042\">Spark UI</a></p>\n",
       "\n",
       "            <dl>\n",
       "              <dt>Version</dt>\n",
       "                <dd><code>v3.3.1</code></dd>\n",
       "              <dt>Master</dt>\n",
       "                <dd><code>local[*]</code></dd>\n",
       "              <dt>AppName</dt>\n",
       "                <dd><code>Pyspark_Tutorial FreeCode Camp</code></dd>\n",
       "            </dl>\n",
       "        </div>\n",
       "        \n",
       "            </div>\n",
       "        "
      ],
      "text/plain": [
       "<pyspark.sql.session.SparkSession at 0x21ec3dd1100>"
      ]
     },
     "execution_count": 2,
     "metadata": {},
     "output_type": "execute_result"
    }
   ],
   "source": [
    "from pyspark.sql import SparkSession\n",
    "spark=SparkSession.builder.appName('Pyspark_Tutorial FreeCode Camp').getOrCreate()\n",
    "spark"
   ]
  },
  {
   "cell_type": "code",
   "execution_count": 4,
   "metadata": {},
   "outputs": [
    {
     "name": "stdout",
     "output_type": "stream",
     "text": [
      "root\n",
      " |-- Name: string (nullable = true)\n",
      " |-- age: integer (nullable = true)\n",
      " |-- Experience: integer (nullable = true)\n",
      " |-- Salary: integer (nullable = true)\n",
      "\n"
     ]
    }
   ],
   "source": [
    "df_pyspark=spark.read.option('header','true').csv('data\\\\teste_1.csv',inferSchema=True)\n",
    "df_pyspark.printSchema()"
   ]
  },
  {
   "cell_type": "code",
   "execution_count": 5,
   "metadata": {},
   "outputs": [
    {
     "name": "stdout",
     "output_type": "stream",
     "text": [
      "+---------+---+----------+------+\n",
      "|     Name|age|Experience|Salary|\n",
      "+---------+---+----------+------+\n",
      "|    Krish| 31|        10| 30000|\n",
      "|Sudhanshu| 30|         8| 25000|\n",
      "|    Sunny| 29|         4| 20000|\n",
      "|     Paul| 24|         3| 20000|\n",
      "|   Harsha| 21|         1| 15000|\n",
      "|  Shubham| 23|         2| 18000|\n",
      "+---------+---+----------+------+\n",
      "\n"
     ]
    }
   ],
   "source": [
    "df_pyspark=spark.read.csv('data\\\\teste_1.csv',header=True,inferSchema=True)\n",
    "df_pyspark.show()"
   ]
  },
  {
   "cell_type": "code",
   "execution_count": 59,
   "metadata": {},
   "outputs": [
    {
     "name": "stdout",
     "output_type": "stream",
     "text": [
      "+-------+------+------------------+-----------------+------------------+\n",
      "|summary|  Name|               age|       Experience|            Salary|\n",
      "+-------+------+------------------+-----------------+------------------+\n",
      "|  count|     6|                 6|                6|                 6|\n",
      "|   mean|  null|26.333333333333332|4.666666666666667|21333.333333333332|\n",
      "| stddev|  null| 4.179314138308661|3.559026084010437| 5354.126134736337|\n",
      "|    min|Harsha|                21|                1|             15000|\n",
      "|    max| Sunny|                31|               10|             30000|\n",
      "+-------+------+------------------+-----------------+------------------+\n",
      "\n"
     ]
    }
   ],
   "source": [
    "df_pyspark.describe().show()"
   ]
  },
  {
   "cell_type": "code",
   "execution_count": 60,
   "metadata": {},
   "outputs": [
    {
     "name": "stdout",
     "output_type": "stream",
     "text": [
      "+---------+---+----------+\n",
      "|     Name|age|Experience|\n",
      "+---------+---+----------+\n",
      "|    Krish| 31|        10|\n",
      "|Sudhanshu| 30|         8|\n",
      "|    Sunny| 29|         4|\n",
      "|     Paul| 24|         3|\n",
      "|   Harsha| 21|         1|\n",
      "|  Shubham| 23|         2|\n",
      "+---------+---+----------+\n",
      "\n"
     ]
    }
   ],
   "source": [
    "df_pyspark.select(\"Name\", \"age\", \"Experience\").show()"
   ]
  },
  {
   "cell_type": "markdown",
   "metadata": {},
   "source": [
    "> _Ambos os jeitos funcionam, porém guardar em mente o filter estabelece a condicao, ha sempre de colocar o select, quando se deseja selecionar algumas colunas, tanto faz a ordem caso queira trazer todas as colunas, basta colocar o show() apos o filter_"
   ]
  },
  {
   "cell_type": "code",
   "execution_count": 61,
   "metadata": {},
   "outputs": [
    {
     "name": "stdout",
     "output_type": "stream",
     "text": [
      "+---+----------+\n",
      "|age|Experience|\n",
      "+---+----------+\n",
      "| 24|         3|\n",
      "+---+----------+\n",
      "\n"
     ]
    }
   ],
   "source": [
    "df_pyspark.select(\"age\", \"Experience\").filter(\"Name == 'Paul'\").show()"
   ]
  },
  {
   "cell_type": "code",
   "execution_count": 62,
   "metadata": {},
   "outputs": [
    {
     "name": "stdout",
     "output_type": "stream",
     "text": [
      "+---+----------+------+\n",
      "|age|Experience|Salary|\n",
      "+---+----------+------+\n",
      "| 29|         4| 20000|\n",
      "+---+----------+------+\n",
      "\n"
     ]
    }
   ],
   "source": [
    "df_pyspark.filter(\"Name == 'Sunny'\").select(\"age\", \"Experience\", \"Salary\").show()"
   ]
  },
  {
   "cell_type": "code",
   "execution_count": 6,
   "metadata": {},
   "outputs": [
    {
     "name": "stdout",
     "output_type": "stream",
     "text": [
      "+---------+---+----------+------+\n",
      "|     Name|age|Experience|Salary|\n",
      "+---------+---+----------+------+\n",
      "|    Krish| 31|        10| 30000|\n",
      "|Sudhanshu| 30|         8| 25000|\n",
      "|    Sunny| 29|         4| 20000|\n",
      "|     Paul| 24|         3| 20000|\n",
      "+---------+---+----------+------+\n",
      "\n"
     ]
    }
   ],
   "source": [
    "df_pyspark.filter('Salary >= 20000').show()"
   ]
  },
  {
   "cell_type": "markdown",
   "metadata": {},
   "source": [
    "> _withColumn funciona para adicionar novas colunas dentro do DataFrame, também é importante salientar a possibilidade de colocar clausulas boleanas para condicionar o valor atraves da clausula when da classe Functions_\n",
    "\n",
    "> _withColumnRenamed se passa o valor antigo e o novo para uma coluna no dataframe_"
   ]
  },
  {
   "cell_type": "code",
   "execution_count": 63,
   "metadata": {},
   "outputs": [
    {
     "name": "stdout",
     "output_type": "stream",
     "text": [
      "+---------+---+----------+------+-----------------------+------------+\n",
      "|     Name|age|Experience|Salary|Experience After 2 year|Salary_bonus|\n",
      "+---------+---+----------+------+-----------------------+------------+\n",
      "|    Krish| 31|        10| 30000|                     12|      6000.0|\n",
      "|Sudhanshu| 30|         8| 25000|                     10|      5000.0|\n",
      "|    Sunny| 29|         4| 20000|                      6|      4000.0|\n",
      "|     Paul| 24|         3| 20000|                      5|      4000.0|\n",
      "|   Harsha| 21|         1| 15000|                      3|      3000.0|\n",
      "|  Shubham| 23|         2| 18000|                      4|      3600.0|\n",
      "+---------+---+----------+------+-----------------------+------------+\n",
      "\n"
     ]
    }
   ],
   "source": [
    "df_pyspark=df_pyspark.withColumn('Experience After 2 year',df_pyspark['Experience']+2).withColumn('Salary_bonus', df_pyspark['Salary']*.20)\n",
    "df_pyspark.show()"
   ]
  },
  {
   "cell_type": "code",
   "execution_count": 64,
   "metadata": {},
   "outputs": [
    {
     "name": "stdout",
     "output_type": "stream",
     "text": [
      "+---------+---+----------+------+-----------------------+------------+\n",
      "|     Name|Age|Experience|Salary|Experience After 2 year|Salary_bonus|\n",
      "+---------+---+----------+------+-----------------------+------------+\n",
      "|    Krish| 31|        10| 30000|                     12|      6000.0|\n",
      "|Sudhanshu| 30|         8| 25000|                     10|      5000.0|\n",
      "|    Sunny| 29|         4| 20000|                      6|      4000.0|\n",
      "|     Paul| 24|         3| 20000|                      5|      4000.0|\n",
      "|   Harsha| 21|         1| 15000|                      3|      3000.0|\n",
      "|  Shubham| 23|         2| 18000|                      4|      3600.0|\n",
      "+---------+---+----------+------+-----------------------+------------+\n",
      "\n"
     ]
    }
   ],
   "source": [
    "df_pyspark = df_pyspark.withColumnRenamed('age', 'Age')\n",
    "df_pyspark.show()"
   ]
  },
  {
   "cell_type": "code",
   "execution_count": 66,
   "metadata": {},
   "outputs": [
    {
     "name": "stdout",
     "output_type": "stream",
     "text": [
      "+---------+---+----------+------+------------+\n",
      "|     Name|Age|Experience|Salary|Salary_bonus|\n",
      "+---------+---+----------+------+------------+\n",
      "|    Krish| 31|        10| 30000|      6000.0|\n",
      "|Sudhanshu| 30|         8| 25000|      5000.0|\n",
      "|    Sunny| 29|         4| 20000|      4000.0|\n",
      "|     Paul| 24|         3| 20000|      4000.0|\n",
      "|   Harsha| 21|         1| 15000|      3000.0|\n",
      "|  Shubham| 23|         2| 18000|      3600.0|\n",
      "+---------+---+----------+------+------------+\n",
      "\n"
     ]
    }
   ],
   "source": [
    "#remover coluna com o metodo drop(str ou [] com a/as coluna/s)\n",
    "df_pyspark = df_pyspark.drop(\"Experience After 2 year\")\n",
    "df_pyspark.show()"
   ]
  }
 ],
 "metadata": {
  "kernelspec": {
   "display_name": "Python 3.9.13 64-bit (microsoft store)",
   "language": "python",
   "name": "python3"
  },
  "language_info": {
   "codemirror_mode": {
    "name": "ipython",
    "version": 3
   },
   "file_extension": ".py",
   "mimetype": "text/x-python",
   "name": "python",
   "nbconvert_exporter": "python",
   "pygments_lexer": "ipython3",
   "version": "3.9.13"
  },
  "orig_nbformat": 4,
  "vscode": {
   "interpreter": {
    "hash": "0c1f62c82bb56591ac936d53453301766eb92305bf3878cc3736aaa64eb60126"
   }
  }
 },
 "nbformat": 4,
 "nbformat_minor": 2
}
