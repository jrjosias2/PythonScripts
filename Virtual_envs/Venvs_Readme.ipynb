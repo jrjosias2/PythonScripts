{
 "cells": [
  {
   "cell_type": "markdown",
   "metadata": {},
   "source": [
    "Folder to centralize the creation of virtual environments for the trainings I'll be doing\n",
    "\n",
    "* Manage Packets\n",
    "* Create whl files\n",
    "* Manage Distributions and Dependecies"
   ]
  }
 ],
 "metadata": {
  "kernelspec": {
   "display_name": "Python 3 (ipykernel)",
   "language": "python",
   "name": "python3"
  },
  "language_info": {
   "codemirror_mode": {
    "name": "ipython",
    "version": 3
   },
   "file_extension": ".py",
   "mimetype": "text/x-python",
   "name": "python",
   "nbconvert_exporter": "python",
   "pygments_lexer": "ipython3",
   "version": "3.9.13"
  },
  "vscode": {
   "interpreter": {
    "hash": "0c1f62c82bb56591ac936d53453301766eb92305bf3878cc3736aaa64eb60126"
   }
  }
 },
 "nbformat": 4,
 "nbformat_minor": 2
}
