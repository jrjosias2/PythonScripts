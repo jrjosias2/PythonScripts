{
 "cells": [
  {
   "cell_type": "markdown",
   "metadata": {},
   "source": [
    "# Working with Pandas CloudAcademy"
   ]
  },
  {
   "cell_type": "markdown",
   "metadata": {},
   "source": [
    "## 1.0 Imports Section"
   ]
  },
  {
   "cell_type": "code",
   "execution_count": null,
   "metadata": {},
   "outputs": [],
   "source": [
    "#Imports Sections\n",
    "import numpy as np\n",
    "import pandas as pd\n"
   ]
  },
  {
   "cell_type": "markdown",
   "metadata": {},
   "source": [
    "## 1.1 Code"
   ]
  },
  {
   "cell_type": "code",
   "execution_count": null,
   "metadata": {},
   "outputs": [],
   "source": [
    "np.random.seed(0)\n",
    "b = (17 + np.random.rand(50,1) * 18)\n",
    "heights = np.random.randint(120, 220, 50).reshape(50, 1)\n",
    "weights = 2.2 * b + 3.5 * b * (heights - 150)/100\n",
    "\n",
    "#print(weights/(heights/100)**2)\n",
    "\n",
    "ds_heights = pd.Series(heights.flatten()[:10])\n",
    "#print('ds_heights\\n', ds_heights)\n",
    "#print('slice ds_heights\\n', ds_heights[4:-1])\n",
    "\n",
    "ds_heights.index\n",
    "print(ds_heights.values)\n",
    "\n",
    "ds_heights[[True, False]*5]\n",
    "\n",
    "print('subSet with brackets >160\\n', ds_heights > 160)\n",
    "\n",
    "ds_heights\n"
   ]
  },
  {
   "cell_type": "markdown",
   "metadata": {},
   "source": [
    "# Practical Data Science with Python\n",
    "\n",
    "https://cloudacademy.com/course/practical-data-science-python/"
   ]
  },
  {
   "cell_type": "markdown",
   "metadata": {},
   "source": [
    "## What's a data scientist?"
   ]
  },
  {
   "cell_type": "markdown",
   "metadata": {},
   "source": [
    "### *\"A better statistician than a computer scientis; a better computer scientist than a statistician\"*\n",
    "\n",
    "Core skills are Computer Programming, Math & Statistics, Domain Knowledge. However deeping down to that, there's more to come like Business Acumen, Data Viz, Communication, Storytelling, Project Mgmt/DevOps, Development/Engineering, Statistics, etc, etc, Mostly curiosity...\n",
    "\n",
    "* What's learning?\n",
    "An untrained model is a general math model with several free parameters; The learning process automatically adjusts those parameters, the fitted model is said \"trained\" or \"learnt\"\n",
    "\n",
    "Supervised learning is dataset with the right answer on the training data whereas Unsupervised learning is a dataset without the answers\n",
    "\n",
    "* Regression\n",
    "Process: \"learning\" a trend line over seen (X, Y) which relates X to Y.\n",
    "Goal: Predict Y from unseen X.\n",
    "\n",
    "* Classification\n",
    "Process: essentially regression with labels, \"learning\" to discriminate between values of Y, dictated by X.\n",
    "Goal: Predict Y for unseen X.\n",
    "\n",
    "* Clustering\n",
    "Are going to find groups on the data, whenever it fits in. \n",
    "Regression asks for numbers, Classification asks Labels while Clustering asks Are there labels for this groups? Give me labels to assign to the groups!\n",
    "\n",
    "*#* *check all for the Fiap Repom work*"
   ]
  },
  {
   "cell_type": "markdown",
   "metadata": {},
   "source": [
    "## Core Skiills"
   ]
  },
  {
   "cell_type": "markdown",
   "metadata": {},
   "source": [
    "### Mathematician and Stastician skills\n",
    "* Probability: Bayes rule\n",
    "* Statistics: Random variables, samples and populations, describing destributions, inference\n",
    "* Linear algebra: transformation on datasets, wheighted sums, data models (tensor, matrix, vector), operational models and so on\n",
    "* Calculus: areas and rates"
   ]
  },
  {
   "cell_type": "markdown",
   "metadata": {},
   "source": [
    "### Programing Language skills (*mostly used langague for data science*)\n",
    "* Python langague and its libraries (pandas, numpy, seaborn, matplotlib, tensorflow, keras, and others)"
   ]
  },
  {
   "cell_type": "markdown",
   "metadata": {},
   "source": [
    "### Project/devops management\n",
    "* Project management CRISP-DM and Machine Learning workflow"
   ]
  },
  {
   "cell_type": "markdown",
   "metadata": {},
   "source": [
    "## Defining function\n",
    "\n",
    "def funcName(optional input arguments/parameters):\n",
    "* operations\n",
    "* return\n",
    "* or pass (pass meaning we know nothing is happening at the function but it's fine)\n",
    "\n",
    "--- *Note* ---\n",
    "check about scripts and regex to be used in Notebooks\n",
    "# $\\frac{\\pi}{4}$"
   ]
  },
  {
   "cell_type": "code",
   "execution_count": 1,
   "metadata": {},
   "outputs": [
    {
     "name": "stdout",
     "output_type": "stream",
     "text": [
      "81\n",
      "3\n",
      "('Josias', 'Leonardo', 'JR')\n",
      "324\n",
      "25\n",
      "15\n",
      "Im positional args: hi there, test func\n",
      "{'another_thing': 'another_element', 'one_more_thing': 'Test', 'another_else': 'Testing more'}\n",
      "15\n",
      "Im positional args: hi there, test func without kwargs\n",
      "{}\n",
      "15\n",
      "Division operations with /, // and %\n",
      "2.5\n",
      "2\n",
      "1\n"
     ]
    }
   ],
   "source": [
    "#When we don't set the standard values, that means all the arguments on the signature must be filled out (mandatory)\n",
    "def func(pred, obs):\n",
    "    return (pred - obs) ** 2\n",
    "\n",
    "#When specified standard values, means if nothing is passed, func will have it computed as it's signed, that way arguments are not mandatory\n",
    "def funcDefaultArgs(pred = 5, obs = 2):\n",
    "    return (pred - obs) ** 2\n",
    "\n",
    "#Must call the func by calling explicity each of its arguments by name and assiging a value\n",
    "def funcPositionalArgs(*, pred, obs):\n",
    "    return (pred + obs)\n",
    "\n",
    "#optional Dictionary of values on Kwargs, if * specified at the begining all arguments must be called as above, or all arguments after the *, \n",
    "# in this case obs must be explicity called and assigned\n",
    "def funcPositionalArgs2(positional_var, pred, *, obs, **kwargs):\n",
    "    print('Im positional args: ' + positional_var)\n",
    "    print(kwargs)\n",
    "    return (pred + obs)\n",
    "\n",
    "#receives any or many arguments all managed as tupple\n",
    "def funcArbitrary(*Args):\n",
    "    num = len(Args)\n",
    "    print(num)\n",
    "    print(Args)\n",
    "\n",
    "print(func(15, 6))\n",
    "\n",
    "funcArbitrary('Josias', 'Leonardo', 'JR')\n",
    "\n",
    "#Cool thing once you set the standard values, we can define when inputing parameters with other values and can be any of them\n",
    "print(funcDefaultArgs(pred = 20))\n",
    "print(funcDefaultArgs(obs=10))\n",
    "\n",
    "#This way you must specify the input arguments name and its value\n",
    "print(funcPositionalArgs(pred=10, obs=5))\n",
    "\n",
    "#here beyond specifing by name each value, if you decided to pass more arguments as kwargs, you must set as kwargs with the input name and value producing a dictionary.\n",
    "print(funcPositionalArgs2('hi there, test func', 10, obs=5, another_thing = 'another_element', one_more_thing = 'Test', another_else = 'Testing more'))\n",
    "print(funcPositionalArgs2('hi there, test func without kwargs', pred=10, obs=5))\n",
    "\n",
    "print('Division operations with /, // and %')\n",
    "print (5 / 2) #divided with floating point\n",
    "print (5 // 2) #divided with integers discarding the floating point\n",
    "print( 5 % 2) #the remaining value (left over) out of the division meaning the result 1"
   ]
  },
  {
   "cell_type": "markdown",
   "metadata": {},
   "source": [
    "## Dictionary one of the collections in Python\n"
   ]
  },
  {
   "cell_type": "markdown",
   "metadata": {},
   "source": [
    "Imutable datasets that are key pairs like json"
   ]
  },
  {
   "cell_type": "code",
   "execution_count": 2,
   "metadata": {},
   "outputs": [
    {
     "name": "stdout",
     "output_type": "stream",
     "text": [
      "{'name': ['Josias', 'Leonardo', 'JR'], 'age:': '38', 'country': 'Brazil', 'state': 'SP', 'city': 'Sao Paulo', 'profession': 'Data Architect'}\n",
      "['Josias', 'Leonardo']\n",
      "Leonardo, Data Architect\n",
      "0 name ['Josias', 'Leonardo', 'JR']\n",
      "1 age: 38\n",
      "2 country Brazil\n",
      "3 state SP\n",
      "4 city Sao Paulo\n",
      "5 profession Data Architect\n",
      "0 1\n",
      "1 2\n",
      "2 3\n",
      "3 4\n",
      "4 5\n",
      "5 5\n",
      "6 6\n",
      "[1, 4, 9, 16, 25, 25, 36]\n",
      "{0: 0, 1: 10, 2: 20, 3: 30, 4: 40, 5: 50, 6: 60, 7: 70, 8: 80, 9: 90}\n"
     ]
    },
    {
     "data": {
      "text/plain": [
       "[0, 10, 20, 30, 40, 50, 60, 70, 80, 90]"
      ]
     },
     "execution_count": 2,
     "metadata": {},
     "output_type": "execute_result"
    }
   ],
   "source": [
    "#Dictionaries are json alike structure\n",
    "user = {\n",
    "    'name': ['Josias','Leonardo', 'JR'],\n",
    "    'age:': '38',\n",
    "    'country': 'Brazil',\n",
    "    'state': 'SP',\n",
    "    'city': 'Sao Paulo',\n",
    "    'profession': 'Data Architect'\n",
    "}\n",
    "\n",
    "print(user)\n",
    "print(user['name'][0:2])\n",
    "print(user['name'][1] +\", \" + user['profession'])\n",
    "\n",
    "for i, element in enumerate(user):\n",
    "    print(i, element, user[element])\n",
    "\n",
    "happines = [1,2,3,4,5,5,6]\n",
    "for i, element in enumerate(happines):\n",
    "    print(i, element)\n",
    "    happines[i] **= 2 #exponenciation\n",
    "    \n",
    "print(happines)\n",
    "\n",
    "#Dinamyc dictionary out of the operation\n",
    "dynam_dic = {element : element * 10 for element in range(10)}\n",
    "print(dynam_dic)\n",
    "\n",
    "\n",
    "#list out of the operation\n",
    "ls = []\n",
    "for element in range(10):\n",
    "    ls.append(element*10)\n",
    "\n",
    "ls"
   ]
  },
  {
   "cell_type": "code",
   "execution_count": 3,
   "metadata": {},
   "outputs": [
    {
     "name": "stdout",
     "output_type": "stream",
     "text": [
      "[1, 2, 'Buzz', 4, 'Fizz', 'Buzz', 7, 8, 'Buzz', 'Fizz', 11, 'Buzz', 13, 14, 'FizzBuzz', 16, 17, 'Buzz', 19, 'Fizz', 'Buzz', 22, 23, 'Buzz', 'Fizz', 26, 'Buzz', 28, 29, 'FizzBuzz', 31, 32, 'Buzz', 34, 'Fizz', 'Buzz', 37, 38, 'Buzz', 'Fizz', 41, 'Buzz', 43, 44, 'FizzBuzz', 46, 47, 'Buzz', 49, 'Fizz', 'Buzz', 52, 53, 'Buzz', 'Fizz', 56, 'Buzz', 58, 59, 'FizzBuzz', 61, 62, 'Buzz', 64, 'Fizz', 'Buzz', 67, 68, 'Buzz', 'Fizz', 71, 'Buzz', 73, 74, 'FizzBuzz', 76, 77, 'Buzz', 79, 'Fizz', 'Buzz', 82, 83, 'Buzz', 'Fizz', 86, 'Buzz', 88, 89, 'FizzBuzz', 91, 92, 'Buzz', 94, 'Fizz', 'Buzz', 97, 98, 'Buzz', 'Fizz']\n"
     ]
    }
   ],
   "source": [
    "# Setting the for statement in brackets you can put the value of the for loop in a collection, same as above however saved as dictionary\n",
    "# That's calle as comprehension in python >> SEARCH ABOUT IT might be valuable for data exploration\n",
    "for_collection = [ \n",
    "    'FizzBuzz' if i % 15 == 0\n",
    "    else('Fizz' if i % 5 == 0\n",
    "        else('Buzz' if i % 3 == 0\n",
    "            else i\n",
    "        )\n",
    "    )\n",
    "    for i in range(1, 101)\n",
    "]\n",
    "\n",
    "print(for_collection)"
   ]
  },
  {
   "cell_type": "code",
   "execution_count": 14,
   "metadata": {},
   "outputs": [],
   "source": [
    "[i * 10 for i in range(10)]\n",
    "\n",
    "#TESTAR HERANCA DE CLASSES AQUI\n",
    "\n",
    "class First():\n",
    "    def __init__(self):\n",
    "        super(First, self).__init__()\n",
    "        print(\"Primeira Classe\")\n",
    "\n",
    "class Second():\n",
    "    def __init__(self):\n",
    "        super(Second, self).__init__()\n",
    "        print(\"Segunda Classe\")\n",
    "\n",
    "class Third(First, Second):\n",
    "    def __init__(self):\n",
    "        super(Third, self).__init__()\n",
    "        print(\"Terceira Classe\")"
   ]
  },
  {
   "cell_type": "code",
   "execution_count": 15,
   "metadata": {},
   "outputs": [
    {
     "name": "stdout",
     "output_type": "stream",
     "text": [
      "Segunda Classe\n",
      "Primeira Classe\n",
      "Terceira Classe\n"
     ]
    },
    {
     "data": {
      "text/plain": [
       "<__main__.Third at 0x1d5e4b577c0>"
      ]
     },
     "execution_count": 15,
     "metadata": {},
     "output_type": "execute_result"
    }
   ],
   "source": [
    "#Sequencia de impressao de Heranca\n",
    "Third()"
   ]
  },
  {
   "cell_type": "code",
   "execution_count": 4,
   "metadata": {},
   "outputs": [
    {
     "name": "stdout",
     "output_type": "stream",
     "text": [
      "TRUE\n"
     ]
    }
   ],
   "source": [
    "a = 10\n",
    "b = 6\n",
    "\n",
    "if((a == 10) & (b != 5)):\n",
    "    print(\"TRUE\")\n",
    "else:\n",
    "    print(\"FALSE\")\n"
   ]
  },
  {
   "cell_type": "code",
   "execution_count": 2,
   "metadata": {},
   "outputs": [
    {
     "name": "stdout",
     "output_type": "stream",
     "text": [
      "Success on convert the audit PMB to the standard frame\n"
     ]
    }
   ],
   "source": [
    "audit = 'Josa'\n",
    "print(f\"Success on convert the audit {audit} to the standard frame\")"
   ]
  },
  {
   "cell_type": "code",
   "execution_count": 4,
   "metadata": {},
   "outputs": [],
   "source": [
    "class Simple:\n",
    "    def __init__(self):\n",
    "        self.value = \"I've been created\"\n",
    "    \n",
    "    def print_method(self):\n",
    "        print(self.value)\n",
    "    \n",
    "    def __str__(self):\n",
    "        return 'Simple class object'\n",
    "    \n",
    "    def __add__(self, another_simple):\n",
    "        return self.value + ' | ' + another_simple.value\n"
   ]
  },
  {
   "cell_type": "code",
   "execution_count": 5,
   "metadata": {},
   "outputs": [
    {
     "name": "stdout",
     "output_type": "stream",
     "text": [
      "I've been created\n",
      "I was changed check me please\n",
      "I've been created\n",
      "I was changed check me please\n"
     ]
    }
   ],
   "source": [
    "my_simple_obj = Simple()\n",
    "my_simple_obj.print_method()\n",
    "\n",
    "my_simple_obj.value = 'I was changed check me please'\n",
    "\n",
    "my_simple_obj.print_method()\n",
    "\n",
    "another = Simple()\n",
    "\n",
    "another.print_method()\n",
    "my_simple_obj.print_method()"
   ]
  },
  {
   "cell_type": "code",
   "execution_count": 15,
   "metadata": {},
   "outputs": [
    {
     "data": {
      "text/plain": [
       "['__add__',\n",
       " '__class__',\n",
       " '__delattr__',\n",
       " '__dict__',\n",
       " '__dir__',\n",
       " '__doc__',\n",
       " '__eq__',\n",
       " '__format__',\n",
       " '__ge__',\n",
       " '__getattribute__',\n",
       " '__gt__',\n",
       " '__hash__',\n",
       " '__init__',\n",
       " '__init_subclass__',\n",
       " '__le__',\n",
       " '__lt__',\n",
       " '__module__',\n",
       " '__ne__',\n",
       " '__new__',\n",
       " '__reduce__',\n",
       " '__reduce_ex__',\n",
       " '__repr__',\n",
       " '__setattr__',\n",
       " '__sizeof__',\n",
       " '__str__',\n",
       " '__subclasshook__',\n",
       " '__weakref__',\n",
       " 'print_method']"
      ]
     },
     "execution_count": 15,
     "metadata": {},
     "output_type": "execute_result"
    }
   ],
   "source": [
    "dir(Simple)"
   ]
  },
  {
   "cell_type": "code",
   "execution_count": 16,
   "metadata": {},
   "outputs": [
    {
     "name": "stdout",
     "output_type": "stream",
     "text": [
      "<class '__main__.Simple'>\n",
      "Simple class object\n",
      "Simple class object\n",
      "I've been created | I was changed check me please\n"
     ]
    }
   ],
   "source": [
    "# __str__ overwritten in the class to print the object instance with customized string \"Simple class object\"\n",
    "print(Simple)\n",
    "print(my_simple_obj)\n",
    "print(another)\n",
    "\n",
    "print(another.__add__(my_simple_obj))"
   ]
  },
  {
   "cell_type": "code",
   "execution_count": 39,
   "metadata": {},
   "outputs": [
    {
     "name": "stdout",
     "output_type": "stream",
     "text": [
      "['-----', '-----', '-----', '-----']\n"
     ]
    }
   ],
   "source": [
    "class Pen:\n",
    "    def __init__(self, lenght):\n",
    "        self.i_lenght = lenght\n",
    "        self.page = []\n",
    "    \n",
    "    def draw(self):\n",
    "        self.page.append(self.i_lenght * '-')\n",
    "    \n",
    "    def __str__(self):\n",
    "        return str(self.page)\n",
    "\n",
    "pen = Pen(5)\n",
    "pen.draw()\n",
    "pen.draw()\n",
    "pen.draw()\n",
    "pen.draw()\n",
    "print(pen)"
   ]
  },
  {
   "cell_type": "markdown",
   "metadata": {},
   "source": [
    "## Statistics and Numpy\n",
    "\n",
    "* Variables\n",
    "* Central tendency\n",
    "* Measures of dispersion\n",
    "* Probability distribution\n",
    "* Normal distribution\n",
    "* Central limit theorem\n",
    "* Standard normal distribution"
   ]
  },
  {
   "cell_type": "markdown",
   "metadata": {},
   "source": [
    "### Variables\n",
    "\n",
    "Characteristics or quantity that can be measured / counted / recorded or anything that can be categorized\n",
    "\n",
    "Forms of variable:\n",
    "\n",
    "* Quantitive data: Mesure on a suitable scale = numerical\n",
    "    * Continuous: Any value within any given range *measured* e.g age, weight, height, temperature\n",
    "    * Discrete: Only certain values within a given range *counted* e.g heads in 100 coin flips, number of childrens in a family\n",
    "**** \n",
    "* Qualitative: Defined by a characteristic = categorical\n",
    "    * Nominal: Categories that can't be ranked *no order* e.g person's gender, eye colour, etc\n",
    "    * Ordianl: Categories that follow a logical hierarchy *ordered* e.g academic grades"
   ]
  },
  {
   "cell_type": "markdown",
   "metadata": {},
   "source": [
    "### Types of variables\n",
    "\n",
    "* Independent variable: Not changed by the other variables \"X axis\" (horizontal)\n",
    "* Dependent variable: depends on other factors \"Y axis\" (vertical)\n",
    "*X causes a change in Y*\n",
    "*Y can't change X*\n",
    "***\n",
    "* Synonymus for each\n",
    "    * Independent: explanatory variable, predictor variable, regressor, treatment, controlled variable, manipulated variable, feature\n",
    "    * Dependent: explained variable, response variable, regressand, outcome, predicted variable, measured variable, label\n",
    "\n",
    "*Explanatory variable might affect response variable*"
   ]
  },
  {
   "cell_type": "markdown",
   "metadata": {},
   "source": [
    "### Statistics\n",
    "\n",
    "* Descriptive statistics are methods for summarising raw observations e.g the height of women in this room\n",
    "* Inferential statistics are methods for using small amount of data to generalise e.g using the height of women in this room, to \"infer\" the average height of women in UK\n",
    "\n",
    "\n",
    "\n",
    "What's the average? when checking average, there're 3 ways to calculated it and it gives different answers and are completely related with the goal we have to answer.\n",
    "\n",
    "* Median: \n",
    "* Mode:\n",
    "* Mean:\n",
    "\n",
    "\n",
    "median or mode and mode helps to do not skewed by the extreme figures.\n",
    "\n",
    "\n",
    "median robust to give the general center looks like.\n",
    "\n",
    "\n",
    "mode good for discrete and most frequent value\n",
    "\n",
    "\n",
    "mean good when the data is relatively with close figures"
   ]
  }
 ],
 "metadata": {
  "kernelspec": {
   "display_name": "Python 3.9.2 64-bit",
   "language": "python",
   "name": "python3"
  },
  "language_info": {
   "codemirror_mode": {
    "name": "ipython",
    "version": 3
   },
   "file_extension": ".py",
   "mimetype": "text/x-python",
   "name": "python",
   "nbconvert_exporter": "python",
   "pygments_lexer": "ipython3",
   "version": "3.9.2"
  },
  "orig_nbformat": 4,
  "vscode": {
   "interpreter": {
    "hash": "11938c6bc6919ae2720b4d5011047913343b08a43b18698fd82dedb0d4417594"
   }
  }
 },
 "nbformat": 4,
 "nbformat_minor": 2
}
