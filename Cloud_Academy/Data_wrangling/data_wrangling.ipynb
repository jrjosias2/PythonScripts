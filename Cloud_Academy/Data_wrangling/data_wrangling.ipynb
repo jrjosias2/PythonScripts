{
 "cells": [
  {
   "cell_type": "code",
   "execution_count": 1,
   "metadata": {},
   "outputs": [
    {
     "ename": "ModuleNotFoundError",
     "evalue": "No module named 'airflow'",
     "output_type": "error",
     "traceback": [
      "\u001b[1;31m---------------------------------------------------------------------------\u001b[0m",
      "\u001b[1;31mModuleNotFoundError\u001b[0m                       Traceback (most recent call last)",
      "\u001b[1;32m~\\AppData\\Local\\Temp/ipykernel_4124/3279252282.py\u001b[0m in \u001b[0;36m<module>\u001b[1;34m\u001b[0m\n\u001b[0;32m      1\u001b[0m \u001b[1;32mimport\u001b[0m \u001b[0mpandas\u001b[0m \u001b[1;32mas\u001b[0m \u001b[0mpd\u001b[0m\u001b[1;33m\u001b[0m\u001b[1;33m\u001b[0m\u001b[0m\n\u001b[1;32m----> 2\u001b[1;33m \u001b[1;32mfrom\u001b[0m \u001b[0mairflow\u001b[0m \u001b[1;32mimport\u001b[0m \u001b[0mDAG\u001b[0m\u001b[1;33m\u001b[0m\u001b[1;33m\u001b[0m\u001b[0m\n\u001b[0m",
      "\u001b[1;31mModuleNotFoundError\u001b[0m: No module named 'airflow'"
     ]
    }
   ],
   "source": [
    "import pandas as pd"
   ]
  },
  {
   "cell_type": "code",
   "execution_count": null,
   "metadata": {},
   "outputs": [],
   "source": [
    "'''\n",
    "#Da um erro referente a configuracoes de INSTALLED_APPS, tentei criar o arquivo apps.py porem ainda assim retorna erro... precisa estudar melhor django para aplicar o ORM nao eh tao simples como pandas\n",
    "\n",
    "from django.db import models\n",
    "from django.apps import apps\n",
    "import apps as app\n",
    "\n",
    "apps.get_app_config('admin').verbose_name\n",
    "\n",
    "class Student(models.Model):\n",
    "    name = models.CharField(max_length=50)\n",
    "    grade = models.IntegerField()\n",
    "\n",
    "class Club(models.Model):\n",
    "    name = models.CharField(max_length=50)\n",
    "    members = models.ManyToManyField(Student)\n",
    "'''"
   ]
  },
  {
   "cell_type": "code",
   "execution_count": 2,
   "metadata": {},
   "outputs": [],
   "source": [
    "#Aqui atraves do parametro index_col estipula-se a coluna que sera o indice do dataframe\n",
    "amzn  = pd.read_csv('data/amzn_june_2020.csv', sep=';', index_col=0)\n",
    "msft  = pd.read_csv('data/msft_june_2020.csv', sep=';', index_col=0)\n",
    "googl = pd.read_csv('data/google_june_2020.csv', sep=';', index_col=0)\n",
    "\n",
    "#Test sem index\n",
    "amzn_noidx  = pd.read_csv('data/amzn_june_2020.csv', sep=';')"
   ]
  },
  {
   "cell_type": "code",
   "execution_count": 3,
   "metadata": {},
   "outputs": [
    {
     "data": {
      "text/html": [
       "<div>\n",
       "<style scoped>\n",
       "    .dataframe tbody tr th:only-of-type {\n",
       "        vertical-align: middle;\n",
       "    }\n",
       "\n",
       "    .dataframe tbody tr th {\n",
       "        vertical-align: top;\n",
       "    }\n",
       "\n",
       "    .dataframe thead th {\n",
       "        text-align: right;\n",
       "    }\n",
       "</style>\n",
       "<table border=\"1\" class=\"dataframe\">\n",
       "  <thead>\n",
       "    <tr style=\"text-align: right;\">\n",
       "      <th></th>\n",
       "      <th>Index</th>\n",
       "      <th>Data_Full</th>\n",
       "      <th>Close</th>\n",
       "      <th>Volume</th>\n",
       "      <th>Symbol</th>\n",
       "    </tr>\n",
       "  </thead>\n",
       "  <tbody>\n",
       "    <tr>\n",
       "      <th>0</th>\n",
       "      <td>0</td>\n",
       "      <td>01/06/2020</td>\n",
       "      <td>24.710.400.390.625</td>\n",
       "      <td>2928900</td>\n",
       "      <td>AMZN</td>\n",
       "    </tr>\n",
       "    <tr>\n",
       "      <th>1</th>\n",
       "      <td>1</td>\n",
       "      <td>02/06/2020</td>\n",
       "      <td>2.472.409.912.109.370</td>\n",
       "      <td>2529900</td>\n",
       "      <td>AMZN</td>\n",
       "    </tr>\n",
       "    <tr>\n",
       "      <th>2</th>\n",
       "      <td>2</td>\n",
       "      <td>03/06/2020</td>\n",
       "      <td>247.839.990.234.375</td>\n",
       "      <td>2671000</td>\n",
       "      <td>AMZN</td>\n",
       "    </tr>\n",
       "    <tr>\n",
       "      <th>3</th>\n",
       "      <td>3</td>\n",
       "      <td>04/06/2020</td>\n",
       "      <td>246.060.009.765.625</td>\n",
       "      <td>2948700</td>\n",
       "      <td>AMZN</td>\n",
       "    </tr>\n",
       "    <tr>\n",
       "      <th>4</th>\n",
       "      <td>4</td>\n",
       "      <td>05/06/2020</td>\n",
       "      <td>2483.0</td>\n",
       "      <td>3306400</td>\n",
       "      <td>AMZN</td>\n",
       "    </tr>\n",
       "  </tbody>\n",
       "</table>\n",
       "</div>"
      ],
      "text/plain": [
       "   Index   Data_Full                   Close    Volume Symbol\n",
       "0      0  01/06/2020      24.710.400.390.625   2928900   AMZN\n",
       "1      1  02/06/2020   2.472.409.912.109.370   2529900   AMZN\n",
       "2      2  03/06/2020     247.839.990.234.375   2671000   AMZN\n",
       "3      3  04/06/2020     246.060.009.765.625   2948700   AMZN\n",
       "4      4  05/06/2020                  2483.0   3306400   AMZN"
      ]
     },
     "execution_count": 3,
     "metadata": {},
     "output_type": "execute_result"
    }
   ],
   "source": [
    "'''\n",
    "Utilizei essa funcao pois a coluna vinha como Unnamed antes de colocar o parametro index_col \n",
    "e indica-lá como a o index do DataFrame, resultado é que a coluna não aparece mais no dataFrame\n",
    "executar abaixo o comando para o amzn_noidx para ver a diferença\n",
    "'''\n",
    "amzn_noidx.rename(columns={\"Unnamed: 0\" : \"Index\", 'Date' : 'Data_Full'}, inplace=True)\n",
    "amzn_noidx.head()"
   ]
  },
  {
   "cell_type": "code",
   "execution_count": null,
   "metadata": {},
   "outputs": [],
   "source": [
    "amzn.nlargest(10, columns='Volume').tail(3)"
   ]
  },
  {
   "cell_type": "code",
   "execution_count": null,
   "metadata": {},
   "outputs": [],
   "source": [
    "#Exemplo de renomear as colunas pelo index (posicao) delas no dataframe\n",
    "amzn_noidx.rename(columns={amzn_noidx.columns[0]: 'Data_Full', amzn_noidx.columns[1]: 'Fechamento'}, inplace=True)\n",
    "amzn_noidx.head()"
   ]
  },
  {
   "cell_type": "code",
   "execution_count": null,
   "metadata": {},
   "outputs": [],
   "source": [
    "amzn.head(1)"
   ]
  },
  {
   "cell_type": "code",
   "execution_count": null,
   "metadata": {},
   "outputs": [],
   "source": [
    "msft.head(1)"
   ]
  },
  {
   "cell_type": "code",
   "execution_count": null,
   "metadata": {},
   "outputs": [],
   "source": [
    "googl.head(1)"
   ]
  },
  {
   "cell_type": "markdown",
   "metadata": {},
   "source": [
    "-Verificar as info gerais do DataFrame, verificando que ambos tem as mesmas estruturas e conjuntos de registros"
   ]
  },
  {
   "cell_type": "code",
   "execution_count": null,
   "metadata": {},
   "outputs": [],
   "source": [
    "googl.info()"
   ]
  },
  {
   "cell_type": "markdown",
   "metadata": {},
   "source": [
    "# Concatenation of Tidy Data Source"
   ]
  },
  {
   "cell_type": "code",
   "execution_count": null,
   "metadata": {},
   "outputs": [],
   "source": [
    "all_df = pd.DataFrame()\n",
    "all_df = all_df.append([amzn, googl, msft])"
   ]
  },
  {
   "cell_type": "code",
   "execution_count": null,
   "metadata": {},
   "outputs": [],
   "source": [
    "all_df.info()"
   ]
  },
  {
   "cell_type": "code",
   "execution_count": null,
   "metadata": {},
   "outputs": [],
   "source": [
    "all_df.reset_index(drop=True, inplace=True)"
   ]
  },
  {
   "cell_type": "code",
   "execution_count": null,
   "metadata": {},
   "outputs": [],
   "source": [
    "all_df.shape"
   ]
  },
  {
   "cell_type": "code",
   "execution_count": null,
   "metadata": {},
   "outputs": [],
   "source": [
    "all_df.head(3)"
   ]
  },
  {
   "cell_type": "markdown",
   "metadata": {},
   "source": [
    "# Concatenation of tidy data source - pd.concat()"
   ]
  },
  {
   "cell_type": "code",
   "execution_count": null,
   "metadata": {},
   "outputs": [],
   "source": [
    "#concat e append são a mesma funcionalidade -->> adicionar linhas ao final do df, porem o concat eh mais performatico e recente\n",
    "\n",
    "all_concat = pd.concat([amzn, googl, msft])\n",
    "all_concat.reset_index(drop=True, inplace=True)\n",
    "all_concat.shape\n"
   ]
  },
  {
   "cell_type": "code",
   "execution_count": null,
   "metadata": {},
   "outputs": [],
   "source": [
    "all_concat.head(3)"
   ]
  },
  {
   "cell_type": "markdown",
   "metadata": {},
   "source": [
    "# Multi-Level indexing"
   ]
  },
  {
   "cell_type": "code",
   "execution_count": null,
   "metadata": {},
   "outputs": [],
   "source": [
    "all_concat.set_index(['Symbol', 'Date'], inplace=True)\n",
    "all_concat.head(3)"
   ]
  },
  {
   "cell_type": "code",
   "execution_count": null,
   "metadata": {},
   "outputs": [],
   "source": [
    "all_concat.sort_index(inplace=True)\n",
    "all_concat.head()"
   ]
  },
  {
   "cell_type": "code",
   "execution_count": null,
   "metadata": {},
   "outputs": [],
   "source": [
    "#Por usar multi index infere que os campos ficam acessiveis como tuples, aonde tem que passar pelo loc, qual a chave e as demais colunas\n",
    "#todas as colunas caracterizada pelo ':' para a tupla AMZN em 02/06/2020\n",
    "all_concat.loc[('AMZN', '02/06/2020'), :]"
   ]
  },
  {
   "cell_type": "code",
   "execution_count": null,
   "metadata": {},
   "outputs": [],
   "source": [
    "#Somente a coluna Volume\n",
    "all_concat.loc[('AMZN', '01/06/2020'), 'Volume']"
   ]
  },
  {
   "cell_type": "code",
   "execution_count": null,
   "metadata": {},
   "outputs": [],
   "source": [
    "#TUDO das tuplas somente para Volume\n",
    "all_concat.loc[:, 'Volume']"
   ]
  },
  {
   "cell_type": "code",
   "execution_count": null,
   "metadata": {},
   "outputs": [],
   "source": [
    "all_concat.index.levels"
   ]
  },
  {
   "cell_type": "code",
   "execution_count": null,
   "metadata": {},
   "outputs": [],
   "source": [
    "all_concat.index.levels[0]"
   ]
  },
  {
   "cell_type": "code",
   "execution_count": null,
   "metadata": {},
   "outputs": [],
   "source": [
    "all_concat.index.levels[1]"
   ]
  },
  {
   "cell_type": "code",
   "execution_count": null,
   "metadata": {},
   "outputs": [],
   "source": [
    "#Possivel passar lista interna para o Index como abaixo, e retornar os valores dentro dessa lista\n",
    "all_concat.loc[(['AMZN', 'GOOGL'], '02/06/2020'), :]"
   ]
  },
  {
   "cell_type": "code",
   "execution_count": null,
   "metadata": {},
   "outputs": [],
   "source": [
    "#Comando slice -->> Pesquisar mais nunca usei\n",
    "all_concat.loc[(slice(None), '02/06/2020'), :]"
   ]
  },
  {
   "cell_type": "code",
   "execution_count": null,
   "metadata": {},
   "outputs": [],
   "source": [
    "all_concat.loc[(slice('AMZN','GOOGL',3), '02/06/2020'), :]"
   ]
  },
  {
   "cell_type": "code",
   "execution_count": null,
   "metadata": {},
   "outputs": [],
   "source": [
    "all_concat.head()"
   ]
  },
  {
   "cell_type": "markdown",
   "metadata": {},
   "source": [
    "# Merging and concatenating tidy data"
   ]
  },
  {
   "cell_type": "code",
   "execution_count": null,
   "metadata": {},
   "outputs": [],
   "source": [
    "# duplica todas as colunas\n",
    "all_concat_columns = pd.concat([amzn, googl, msft], axis=1)"
   ]
  },
  {
   "cell_type": "code",
   "execution_count": null,
   "metadata": {},
   "outputs": [],
   "source": [
    "all_concat_columns.head()"
   ]
  },
  {
   "cell_type": "code",
   "execution_count": null,
   "metadata": {},
   "outputs": [],
   "source": [
    "'''\n",
    "DataFrame acima concatenado pelas colunas é poluído com informações duplicadas, e colunas não identificaveis como por exemplo Close e Volume, não tem relacao direta com o index externo\n",
    "Podendo levar a erros fatais de integridade de dados, utilizando o parametro verify_integrity, garante essa verificacao\n",
    "Se for pra fazer o append por linhas, usar o pandas.concat(), se for por colunas, usar o pandas.merge() existem diferenças cruciais sobre a estrutura e principalmente argumentos\n",
    "concat() é mais performatico que o append() ambos tem a mesma função que é realizar o merge por linhas\n",
    "\n",
    "#Lanca um erro\n",
    "pd.concat([amzn, googl, msft], axis=1, verify_integrity=True)\n",
    "\n",
    "'''"
   ]
  },
  {
   "cell_type": "code",
   "execution_count": null,
   "metadata": {},
   "outputs": [],
   "source": [
    "'''\n",
    "Essa funcao pega o primeiro valor da coluna Symbol, e remove todos as duplicatas, nesse caso todos os valores\n",
    "ja que o dataframe passado tem o nome da empresa como symbol, entao é removido também a coluna symbol,\n",
    "em seguida define a data como index e renomeia as colunas atraves da atribuicao de lista \n",
    "por concatenar o valor de symbol com o nome atual do valor da coluna do dataframe passado\n",
    "'''\n",
    "\n",
    "def new_agg_df(df):\n",
    "\n",
    "    my_list = []\n",
    "    symbol = df['Symbol'].drop_duplicates().values[0]\n",
    "    df.drop(['Symbol'], axis=1, inplace=True)\n",
    "    df.set_index('Date', inplace=True)\n",
    "    my_list = [symbol+'_'+elem for elem in df.columns]\n",
    "    df.columns = my_list\n",
    "    return df"
   ]
  },
  {
   "cell_type": "code",
   "execution_count": null,
   "metadata": {},
   "outputs": [],
   "source": [
    "#Chama a funcao passando o dataframe original\n",
    "amzn_agg = new_agg_df(amzn)\n",
    "msft_agg = new_agg_df(msft)\n",
    "googl_agg = new_agg_df(googl)"
   ]
  },
  {
   "cell_type": "code",
   "execution_count": null,
   "metadata": {},
   "outputs": [],
   "source": [
    "#Temos o dataframe com a identificao de cada coluna individual atrelada ao dataframe original\n",
    "googl_agg.head(1)"
   ]
  },
  {
   "cell_type": "code",
   "execution_count": null,
   "metadata": {},
   "outputs": [],
   "source": [
    "#Resetando o index dos dataframes, através do argumento on, especifica-se qual sera o novo index que é compartilhado por ambos os dataframes\n",
    "#how é a clausula join pesquisar se sao os mesmos do SQL (inner, left, right, ...)\n",
    "#é possível também especificar diferentes index para cada dataframe right_on, left_on\n",
    "#quando nao se reseta o index, podemos estipular qual index vai se manter atraves somente do argumento left=True, right=True\n",
    "amzn_agg.reset_index().merge(msft_agg.reset_index(), how='inner', on='Date').head()"
   ]
  },
  {
   "cell_type": "code",
   "execution_count": null,
   "metadata": {},
   "outputs": [],
   "source": [
    "all_merge_df = amzn_agg.merge(msft_agg, left_index=True, right_index=True).merge(googl_agg, left_index=True, right_index=True)\n",
    "\n",
    "all_merge_df.head()"
   ]
  },
  {
   "cell_type": "markdown",
   "metadata": {},
   "source": [
    "# Transformation of a dataset"
   ]
  },
  {
   "cell_type": "code",
   "execution_count": null,
   "metadata": {},
   "outputs": [],
   "source": [
    "#Todos os dataframes concatenados por linhas, sem index\n",
    "all_df.head()"
   ]
  },
  {
   "cell_type": "markdown",
   "metadata": {},
   "source": [
    "## The pivot method"
   ]
  },
  {
   "cell_type": "code",
   "execution_count": null,
   "metadata": {},
   "outputs": [],
   "source": [
    "'''\n",
    "O index é a coluna que sera o index do dataframe pivot, a coluna, significa a coluna do dataframe no qual o pivot sera executado e mostrar os valores\n",
    "e values, e qual a coluna do df original, que devera ser mostrado como valores da coluna estipulada no columns para o pivot\n",
    "'''\n",
    "pivot_close = all_df.pivot(index='Date', columns='Symbol', values='Close').sort_index()"
   ]
  },
  {
   "cell_type": "code",
   "execution_count": null,
   "metadata": {},
   "outputs": [],
   "source": [
    "pivot_close.head()"
   ]
  },
  {
   "cell_type": "code",
   "execution_count": null,
   "metadata": {},
   "outputs": [],
   "source": [
    "pivot_close_volume = all_df.pivot(index='Date', columns='Symbol').sort_index()"
   ]
  },
  {
   "cell_type": "code",
   "execution_count": null,
   "metadata": {},
   "outputs": [],
   "source": [
    "pivot_close_volume.head()"
   ]
  },
  {
   "cell_type": "code",
   "execution_count": null,
   "metadata": {},
   "outputs": [],
   "source": [
    "#Pesquisar diferença entre unstack e pivot -> Segundo aula quando tiver multi-index dataframe é melhor utilizar o unstack\n",
    "another_df = all_df.set_index(['Symbol', 'Date'])\n",
    "unstacked_df = another_df.unstack(level='Symbol')\n",
    "unstacked_df.head()"
   ]
  },
  {
   "cell_type": "code",
   "execution_count": null,
   "metadata": {},
   "outputs": [],
   "source": [
    "unstacked_df.stack(level='Symbol').head()"
   ]
  },
  {
   "cell_type": "code",
   "execution_count": null,
   "metadata": {},
   "outputs": [],
   "source": [
    "stack_df = unstacked_df.stack(level='Symbol')\n",
    "swapped_df = stack_df.swaplevel('Symbol', 'Date')\n",
    "swapped_df.head()"
   ]
  },
  {
   "cell_type": "code",
   "execution_count": null,
   "metadata": {},
   "outputs": [],
   "source": [
    "swapped_df.sort_index().head()"
   ]
  },
  {
   "cell_type": "markdown",
   "metadata": {},
   "source": [
    "# Melting with Pandas"
   ]
  },
  {
   "cell_type": "code",
   "execution_count": null,
   "metadata": {},
   "outputs": [],
   "source": [
    "all_df.shape"
   ]
  },
  {
   "cell_type": "code",
   "execution_count": null,
   "metadata": {},
   "outputs": [],
   "source": [
    "#Pesquisar melhor o Melt\n",
    "all_df.melt(id_vars=['Symbol', 'Date'])"
   ]
  },
  {
   "cell_type": "markdown",
   "metadata": {},
   "source": [
    "## Aggregating results with Pandas"
   ]
  },
  {
   "cell_type": "code",
   "execution_count": null,
   "metadata": {},
   "outputs": [],
   "source": [
    "all_df.head(1)"
   ]
  },
  {
   "cell_type": "code",
   "execution_count": null,
   "metadata": {},
   "outputs": [],
   "source": [
    "# ValueError: Unable to parse string \"24.710.400.390.625\" at position 0\n",
    "all_df['Close'] = pd.to_numeric(all_df['Close'])"
   ]
  },
  {
   "cell_type": "code",
   "execution_count": null,
   "metadata": {},
   "outputs": [],
   "source": [
    "pivot_close = all_df.pivot(\n",
    "    index='Symbol', \n",
    "    columns='Date', \n",
    "    values='Volume'\n",
    ").sort_index().reset_index()\n",
    "\n",
    "mean_pivot = pd.DataFrame()\n",
    "mean_pivot['Symbol'] = pivot_close['Symbol'].to_list()"
   ]
  },
  {
   "cell_type": "code",
   "execution_count": null,
   "metadata": {},
   "outputs": [],
   "source": [
    "#Por alguma razão esta dando erro de conversão, tentei separadamente aplicar o dtypes antes no all_df mas deu erro mesmo assim, pesquisar depois o erro\n",
    "\n",
    "#Erro esta na formatacao do numero em Close, pois ao substituir por Volume funcionou\n",
    "\n",
    "mean_pivot['average_price'] = pivot_close.set_index('Symbol').apply(\n",
    "    lambda x: x.mean(), axis=1\n",
    ").to_list()"
   ]
  },
  {
   "cell_type": "code",
   "execution_count": null,
   "metadata": {},
   "outputs": [],
   "source": [
    "mean_pivot.set_index('Symbol')"
   ]
  },
  {
   "cell_type": "code",
   "execution_count": null,
   "metadata": {},
   "outputs": [],
   "source": [
    "mean_pivot.head()"
   ]
  },
  {
   "cell_type": "code",
   "execution_count": null,
   "metadata": {},
   "outputs": [],
   "source": [
    "#Por alguma razao os valores na coluna Close nos arquivos FF estao dando problema, pois ao trocar para volume funcionou\n",
    "all_df.pivot_table(\n",
    "    values='Volume',\n",
    "    index='Symbol',\n",
    "    aggfunc='mean',\n",
    ")"
   ]
  },
  {
   "cell_type": "code",
   "execution_count": null,
   "metadata": {},
   "outputs": [],
   "source": [
    "all_df.pivot_table(\n",
    "    index='Symbol',\n",
    "    aggfunc=['mean','median','max','min','std'],\n",
    ")"
   ]
  },
  {
   "cell_type": "markdown",
   "metadata": {},
   "source": [
    "## Group by"
   ]
  },
  {
   "cell_type": "code",
   "execution_count": null,
   "metadata": {},
   "outputs": [],
   "source": [
    "#a coluna close nao funciona para as funcoes que tratam numeros, por isso erro no mean e median\n",
    "grouped_stocks = all_df.groupby('Symbol')['Close'].max()\n",
    "grouped_stocks\n",
    "\n",
    "#Saida e um Series, usar o to_frame para transformar em um dataframe"
   ]
  },
  {
   "cell_type": "code",
   "execution_count": null,
   "metadata": {},
   "outputs": [],
   "source": [
    "grouped_stocks.to_frame()"
   ]
  },
  {
   "cell_type": "code",
   "execution_count": null,
   "metadata": {},
   "outputs": [],
   "source": [
    "all_df.groupby('Symbol')['Close'].agg(['max', 'min',])"
   ]
  },
  {
   "cell_type": "code",
   "execution_count": null,
   "metadata": {},
   "outputs": [],
   "source": [
    "#possivel tambem utilizar funcoes de agregacao por cada coluna por um tipo diferente de agregacao\n",
    "all_df.groupby('Symbol').agg({'Close' : ['max', 'min',], 'Volume' : ['median', 'max']})"
   ]
  },
  {
   "cell_type": "markdown",
   "metadata": {},
   "source": [
    "# Plotting results with Pandas"
   ]
  },
  {
   "cell_type": "code",
   "execution_count": null,
   "metadata": {},
   "outputs": [],
   "source": [
    "import matplotlib.pyplot as plt"
   ]
  },
  {
   "cell_type": "code",
   "execution_count": null,
   "metadata": {},
   "outputs": [],
   "source": []
  }
 ],
 "metadata": {
  "kernelspec": {
   "display_name": "Python 3.9.2 64-bit",
   "language": "python",
   "name": "python3"
  },
  "language_info": {
   "codemirror_mode": {
    "name": "ipython",
    "version": 3
   },
   "file_extension": ".py",
   "mimetype": "text/x-python",
   "name": "python",
   "nbconvert_exporter": "python",
   "pygments_lexer": "ipython3",
   "version": "3.9.2"
  },
  "orig_nbformat": 4,
  "vscode": {
   "interpreter": {
    "hash": "11938c6bc6919ae2720b4d5011047913343b08a43b18698fd82dedb0d4417594"
   }
  }
 },
 "nbformat": 4,
 "nbformat_minor": 2
}
