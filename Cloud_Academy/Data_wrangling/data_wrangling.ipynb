{
 "cells": [
  {
   "cell_type": "code",
   "execution_count": 1,
   "metadata": {},
   "outputs": [],
   "source": [
    "import pandas as pd"
   ]
  },
  {
   "cell_type": "code",
   "execution_count": null,
   "metadata": {},
   "outputs": [],
   "source": [
    "'''\n",
    "#Da um erro referente a configuracoes de INSTALLED_APPS, tentei criar o arquivo apps.py porem ainda assim retorna erro... precisa estudar melhor django para aplicar o ORM nao eh tao simples como pandas\n",
    "\n",
    "from django.db import models\n",
    "from django.apps import apps\n",
    "import apps as app\n",
    "\n",
    "apps.get_app_config('admin').verbose_name\n",
    "\n",
    "class Student(models.Model):\n",
    "    name = models.CharField(max_length=50)\n",
    "    grade = models.IntegerField()\n",
    "\n",
    "class Club(models.Model):\n",
    "    name = models.CharField(max_length=50)\n",
    "    members = models.ManyToManyField(Student)\n",
    "'''"
   ]
  },
  {
   "cell_type": "markdown",
   "metadata": {},
   "source": []
  },
  {
   "cell_type": "code",
   "execution_count": 56,
   "metadata": {},
   "outputs": [],
   "source": [
    "#Aqui atraves do parametro index_col estipula-se a coluna que sera o indice do dataframe\n",
    "amzn  = pd.read_csv('data/amzn_june_2020.csv', sep=';', index_col=0)\n",
    "msft  = pd.read_csv('data/msft_june_2020.csv', sep=';', index_col=0)\n",
    "googl = pd.read_csv('data/google_june_2020.csv', sep=';', index_col=0)\n",
    "\n",
    "#Test sem index\n",
    "amzn_noidx  = pd.read_csv('data/amzn_june_2020.csv', sep=';')"
   ]
  },
  {
   "cell_type": "code",
   "execution_count": 58,
   "metadata": {},
   "outputs": [
    {
     "data": {
      "text/plain": [
       "Date       object\n",
       " Close     object\n",
       "Volume      int64\n",
       "Symbol     object\n",
       "dtype: object"
      ]
     },
     "execution_count": 58,
     "metadata": {},
     "output_type": "execute_result"
    }
   ],
   "source": [
    "amzn.dtypes"
   ]
  },
  {
   "cell_type": "code",
   "execution_count": 3,
   "metadata": {},
   "outputs": [
    {
     "data": {
      "text/html": [
       "<div>\n",
       "<style scoped>\n",
       "    .dataframe tbody tr th:only-of-type {\n",
       "        vertical-align: middle;\n",
       "    }\n",
       "\n",
       "    .dataframe tbody tr th {\n",
       "        vertical-align: top;\n",
       "    }\n",
       "\n",
       "    .dataframe thead th {\n",
       "        text-align: right;\n",
       "    }\n",
       "</style>\n",
       "<table border=\"1\" class=\"dataframe\">\n",
       "  <thead>\n",
       "    <tr style=\"text-align: right;\">\n",
       "      <th></th>\n",
       "      <th>Index</th>\n",
       "      <th>Data_Full</th>\n",
       "      <th>Close</th>\n",
       "      <th>Volume</th>\n",
       "      <th>Symbol</th>\n",
       "    </tr>\n",
       "  </thead>\n",
       "  <tbody>\n",
       "    <tr>\n",
       "      <th>0</th>\n",
       "      <td>0</td>\n",
       "      <td>01/06/2020</td>\n",
       "      <td>24.710.400.390.625</td>\n",
       "      <td>2928900</td>\n",
       "      <td>AMZN</td>\n",
       "    </tr>\n",
       "    <tr>\n",
       "      <th>1</th>\n",
       "      <td>1</td>\n",
       "      <td>02/06/2020</td>\n",
       "      <td>2.472.409.912.109.370</td>\n",
       "      <td>2529900</td>\n",
       "      <td>AMZN</td>\n",
       "    </tr>\n",
       "    <tr>\n",
       "      <th>2</th>\n",
       "      <td>2</td>\n",
       "      <td>03/06/2020</td>\n",
       "      <td>247.839.990.234.375</td>\n",
       "      <td>2671000</td>\n",
       "      <td>AMZN</td>\n",
       "    </tr>\n",
       "    <tr>\n",
       "      <th>3</th>\n",
       "      <td>3</td>\n",
       "      <td>04/06/2020</td>\n",
       "      <td>246.060.009.765.625</td>\n",
       "      <td>2948700</td>\n",
       "      <td>AMZN</td>\n",
       "    </tr>\n",
       "    <tr>\n",
       "      <th>4</th>\n",
       "      <td>4</td>\n",
       "      <td>05/06/2020</td>\n",
       "      <td>2483.0</td>\n",
       "      <td>3306400</td>\n",
       "      <td>AMZN</td>\n",
       "    </tr>\n",
       "  </tbody>\n",
       "</table>\n",
       "</div>"
      ],
      "text/plain": [
       "   Index   Data_Full                   Close    Volume Symbol\n",
       "0      0  01/06/2020      24.710.400.390.625   2928900   AMZN\n",
       "1      1  02/06/2020   2.472.409.912.109.370   2529900   AMZN\n",
       "2      2  03/06/2020     247.839.990.234.375   2671000   AMZN\n",
       "3      3  04/06/2020     246.060.009.765.625   2948700   AMZN\n",
       "4      4  05/06/2020                  2483.0   3306400   AMZN"
      ]
     },
     "execution_count": 3,
     "metadata": {},
     "output_type": "execute_result"
    }
   ],
   "source": [
    "'''\n",
    "Utilizei essa funcao pois a coluna vinha como Unnamed antes de colocar o parametro index_col \n",
    "e indica-lá como a o index do DataFrame, resultado é que a coluna não aparece mais no dataFrame\n",
    "executar abaixo o comando para o amzn_noidx para ver a diferença\n",
    "'''\n",
    "amzn_noidx.rename(columns={\"Unnamed: 0\" : \"Index\", 'Date' : 'Data_Full'}, inplace=True)\n",
    "amzn_noidx.head()"
   ]
  },
  {
   "cell_type": "code",
   "execution_count": 4,
   "metadata": {},
   "outputs": [
    {
     "data": {
      "text/html": [
       "<div>\n",
       "<style scoped>\n",
       "    .dataframe tbody tr th:only-of-type {\n",
       "        vertical-align: middle;\n",
       "    }\n",
       "\n",
       "    .dataframe tbody tr th {\n",
       "        vertical-align: top;\n",
       "    }\n",
       "\n",
       "    .dataframe thead th {\n",
       "        text-align: right;\n",
       "    }\n",
       "</style>\n",
       "<table border=\"1\" class=\"dataframe\">\n",
       "  <thead>\n",
       "    <tr style=\"text-align: right;\">\n",
       "      <th></th>\n",
       "      <th>Date</th>\n",
       "      <th>Close</th>\n",
       "      <th>Volume</th>\n",
       "      <th>Symbol</th>\n",
       "    </tr>\n",
       "  </thead>\n",
       "  <tbody>\n",
       "    <tr>\n",
       "      <th>16</th>\n",
       "      <td>23/06/2020</td>\n",
       "      <td>2.764.409.912.109.370</td>\n",
       "      <td>4231700</td>\n",
       "      <td>AMZN</td>\n",
       "    </tr>\n",
       "    <tr>\n",
       "      <th>20</th>\n",
       "      <td>29/06/2020</td>\n",
       "      <td>26.803.798.828.125</td>\n",
       "      <td>4223400</td>\n",
       "      <td>AMZN</td>\n",
       "    </tr>\n",
       "    <tr>\n",
       "      <th>5</th>\n",
       "      <td>08/06/2020</td>\n",
       "      <td>252.406.005.859.375</td>\n",
       "      <td>3970700</td>\n",
       "      <td>AMZN</td>\n",
       "    </tr>\n",
       "  </tbody>\n",
       "</table>\n",
       "</div>"
      ],
      "text/plain": [
       "          Date                   Close    Volume Symbol\n",
       "16  23/06/2020   2.764.409.912.109.370   4231700   AMZN\n",
       "20  29/06/2020      26.803.798.828.125   4223400   AMZN\n",
       "5   08/06/2020     252.406.005.859.375   3970700   AMZN"
      ]
     },
     "execution_count": 4,
     "metadata": {},
     "output_type": "execute_result"
    }
   ],
   "source": [
    "amzn.nlargest(10, columns='Volume').tail(3)"
   ]
  },
  {
   "cell_type": "code",
   "execution_count": 51,
   "metadata": {},
   "outputs": [
    {
     "data": {
      "text/html": [
       "<div>\n",
       "<style scoped>\n",
       "    .dataframe tbody tr th:only-of-type {\n",
       "        vertical-align: middle;\n",
       "    }\n",
       "\n",
       "    .dataframe tbody tr th {\n",
       "        vertical-align: top;\n",
       "    }\n",
       "\n",
       "    .dataframe thead th {\n",
       "        text-align: right;\n",
       "    }\n",
       "</style>\n",
       "<table border=\"1\" class=\"dataframe\">\n",
       "  <thead>\n",
       "    <tr style=\"text-align: right;\">\n",
       "      <th></th>\n",
       "      <th>Date</th>\n",
       "      <th>Close</th>\n",
       "      <th>Volume</th>\n",
       "      <th>Symbol</th>\n",
       "    </tr>\n",
       "  </thead>\n",
       "  <tbody>\n",
       "    <tr>\n",
       "      <th>19</th>\n",
       "      <td>26/06/2020</td>\n",
       "      <td>13.625.400.390.625</td>\n",
       "      <td>4882000</td>\n",
       "      <td>GOOGL</td>\n",
       "    </tr>\n",
       "    <tr>\n",
       "      <th>14</th>\n",
       "      <td>19/06/2020</td>\n",
       "      <td>14.246.400.146.484.300</td>\n",
       "      <td>2639200</td>\n",
       "      <td>GOOGL</td>\n",
       "    </tr>\n",
       "    <tr>\n",
       "      <th>8</th>\n",
       "      <td>11/06/2020</td>\n",
       "      <td>14.019.000.244.140.600</td>\n",
       "      <td>2357200</td>\n",
       "      <td>GOOGL</td>\n",
       "    </tr>\n",
       "    <tr>\n",
       "      <th>20</th>\n",
       "      <td>29/06/2020</td>\n",
       "      <td>13.971.700.439.453.100</td>\n",
       "      <td>2253700</td>\n",
       "      <td>GOOGL</td>\n",
       "    </tr>\n",
       "    <tr>\n",
       "      <th>4</th>\n",
       "      <td>05/06/2020</td>\n",
       "      <td>144.002.001.953.125</td>\n",
       "      <td>2132100</td>\n",
       "      <td>GOOGL</td>\n",
       "    </tr>\n",
       "    <tr>\n",
       "      <th>21</th>\n",
       "      <td>30/06/2020</td>\n",
       "      <td>1.418.050.048.828.120</td>\n",
       "      <td>2014300</td>\n",
       "      <td>GOOGL</td>\n",
       "    </tr>\n",
       "    <tr>\n",
       "      <th>16</th>\n",
       "      <td>23/06/2020</td>\n",
       "      <td>146.397.998.046.875</td>\n",
       "      <td>1887600</td>\n",
       "      <td>GOOGL</td>\n",
       "    </tr>\n",
       "  </tbody>\n",
       "</table>\n",
       "</div>"
      ],
      "text/plain": [
       "          Date                    Close    Volume Symbol\n",
       "19  26/06/2020       13.625.400.390.625   4882000  GOOGL\n",
       "14  19/06/2020   14.246.400.146.484.300   2639200  GOOGL\n",
       "8   11/06/2020   14.019.000.244.140.600   2357200  GOOGL\n",
       "20  29/06/2020   13.971.700.439.453.100   2253700  GOOGL\n",
       "4   05/06/2020      144.002.001.953.125   2132100  GOOGL\n",
       "21  30/06/2020    1.418.050.048.828.120   2014300  GOOGL\n",
       "16  23/06/2020      146.397.998.046.875   1887600  GOOGL"
      ]
     },
     "execution_count": 51,
     "metadata": {},
     "output_type": "execute_result"
    }
   ],
   "source": [
    "googl.nlargest(7, columns='Volume')"
   ]
  },
  {
   "cell_type": "code",
   "execution_count": 59,
   "metadata": {},
   "outputs": [],
   "source": [
    "amzn.loc[len(amzn.index)] = ['02/04/2023', '3500.0', 1258100, 'AMZN']"
   ]
  },
  {
   "cell_type": "code",
   "execution_count": 60,
   "metadata": {},
   "outputs": [
    {
     "data": {
      "text/html": [
       "<div>\n",
       "<style scoped>\n",
       "    .dataframe tbody tr th:only-of-type {\n",
       "        vertical-align: middle;\n",
       "    }\n",
       "\n",
       "    .dataframe tbody tr th {\n",
       "        vertical-align: top;\n",
       "    }\n",
       "\n",
       "    .dataframe thead th {\n",
       "        text-align: right;\n",
       "    }\n",
       "</style>\n",
       "<table border=\"1\" class=\"dataframe\">\n",
       "  <thead>\n",
       "    <tr style=\"text-align: right;\">\n",
       "      <th></th>\n",
       "      <th>Date</th>\n",
       "      <th>Close</th>\n",
       "      <th>Volume</th>\n",
       "      <th>Symbol</th>\n",
       "    </tr>\n",
       "  </thead>\n",
       "  <tbody>\n",
       "    <tr>\n",
       "      <th>0</th>\n",
       "      <td>01/06/2020</td>\n",
       "      <td>24.710.400.390.625</td>\n",
       "      <td>2928900</td>\n",
       "      <td>AMZN</td>\n",
       "    </tr>\n",
       "    <tr>\n",
       "      <th>1</th>\n",
       "      <td>02/06/2020</td>\n",
       "      <td>2.472.409.912.109.370</td>\n",
       "      <td>2529900</td>\n",
       "      <td>AMZN</td>\n",
       "    </tr>\n",
       "    <tr>\n",
       "      <th>2</th>\n",
       "      <td>03/06/2020</td>\n",
       "      <td>247.839.990.234.375</td>\n",
       "      <td>2671000</td>\n",
       "      <td>AMZN</td>\n",
       "    </tr>\n",
       "    <tr>\n",
       "      <th>3</th>\n",
       "      <td>04/06/2020</td>\n",
       "      <td>246.060.009.765.625</td>\n",
       "      <td>2948700</td>\n",
       "      <td>AMZN</td>\n",
       "    </tr>\n",
       "    <tr>\n",
       "      <th>4</th>\n",
       "      <td>05/06/2020</td>\n",
       "      <td>2483.0</td>\n",
       "      <td>3306400</td>\n",
       "      <td>AMZN</td>\n",
       "    </tr>\n",
       "    <tr>\n",
       "      <th>5</th>\n",
       "      <td>08/06/2020</td>\n",
       "      <td>252.406.005.859.375</td>\n",
       "      <td>3970700</td>\n",
       "      <td>AMZN</td>\n",
       "    </tr>\n",
       "    <tr>\n",
       "      <th>6</th>\n",
       "      <td>09/06/2020</td>\n",
       "      <td>2.600.860.107.421.870</td>\n",
       "      <td>5176000</td>\n",
       "      <td>AMZN</td>\n",
       "    </tr>\n",
       "    <tr>\n",
       "      <th>7</th>\n",
       "      <td>10/06/2020</td>\n",
       "      <td>2.647.449.951.171.870</td>\n",
       "      <td>4946000</td>\n",
       "      <td>AMZN</td>\n",
       "    </tr>\n",
       "    <tr>\n",
       "      <th>8</th>\n",
       "      <td>11/06/2020</td>\n",
       "      <td>25.579.599.609.375</td>\n",
       "      <td>5800100</td>\n",
       "      <td>AMZN</td>\n",
       "    </tr>\n",
       "    <tr>\n",
       "      <th>9</th>\n",
       "      <td>12/06/2020</td>\n",
       "      <td>254.502.001.953.125</td>\n",
       "      <td>5429600</td>\n",
       "      <td>AMZN</td>\n",
       "    </tr>\n",
       "    <tr>\n",
       "      <th>10</th>\n",
       "      <td>15/06/2020</td>\n",
       "      <td>2.572.679.931.640.620</td>\n",
       "      <td>3865100</td>\n",
       "      <td>AMZN</td>\n",
       "    </tr>\n",
       "    <tr>\n",
       "      <th>11</th>\n",
       "      <td>16/06/2020</td>\n",
       "      <td>261.527.001.953.125</td>\n",
       "      <td>3585600</td>\n",
       "      <td>AMZN</td>\n",
       "    </tr>\n",
       "    <tr>\n",
       "      <th>12</th>\n",
       "      <td>17/06/2020</td>\n",
       "      <td>264.097.998.046.875</td>\n",
       "      <td>2951100</td>\n",
       "      <td>AMZN</td>\n",
       "    </tr>\n",
       "    <tr>\n",
       "      <th>13</th>\n",
       "      <td>18/06/2020</td>\n",
       "      <td>265.397.998.046.875</td>\n",
       "      <td>2487800</td>\n",
       "      <td>AMZN</td>\n",
       "    </tr>\n",
       "    <tr>\n",
       "      <th>14</th>\n",
       "      <td>19/06/2020</td>\n",
       "      <td>2.675.010.009.765.620</td>\n",
       "      <td>5777000</td>\n",
       "      <td>AMZN</td>\n",
       "    </tr>\n",
       "    <tr>\n",
       "      <th>15</th>\n",
       "      <td>22/06/2020</td>\n",
       "      <td>2.713.820.068.359.370</td>\n",
       "      <td>3208800</td>\n",
       "      <td>AMZN</td>\n",
       "    </tr>\n",
       "    <tr>\n",
       "      <th>16</th>\n",
       "      <td>23/06/2020</td>\n",
       "      <td>2.764.409.912.109.370</td>\n",
       "      <td>4231700</td>\n",
       "      <td>AMZN</td>\n",
       "    </tr>\n",
       "    <tr>\n",
       "      <th>17</th>\n",
       "      <td>24/06/2020</td>\n",
       "      <td>273.439.990.234.375</td>\n",
       "      <td>4526600</td>\n",
       "      <td>AMZN</td>\n",
       "    </tr>\n",
       "    <tr>\n",
       "      <th>18</th>\n",
       "      <td>25/06/2020</td>\n",
       "      <td>2.754.580.078.125</td>\n",
       "      <td>2968700</td>\n",
       "      <td>AMZN</td>\n",
       "    </tr>\n",
       "    <tr>\n",
       "      <th>19</th>\n",
       "      <td>26/06/2020</td>\n",
       "      <td>26.928.701.171.875</td>\n",
       "      <td>6500800</td>\n",
       "      <td>AMZN</td>\n",
       "    </tr>\n",
       "    <tr>\n",
       "      <th>20</th>\n",
       "      <td>29/06/2020</td>\n",
       "      <td>26.803.798.828.125</td>\n",
       "      <td>4223400</td>\n",
       "      <td>AMZN</td>\n",
       "    </tr>\n",
       "    <tr>\n",
       "      <th>21</th>\n",
       "      <td>30/06/2020</td>\n",
       "      <td>2.758.820.068.359.370</td>\n",
       "      <td>3769700</td>\n",
       "      <td>AMZN</td>\n",
       "    </tr>\n",
       "    <tr>\n",
       "      <th>22</th>\n",
       "      <td>02/04/2023</td>\n",
       "      <td>3500.0</td>\n",
       "      <td>1258100</td>\n",
       "      <td>AMZN</td>\n",
       "    </tr>\n",
       "  </tbody>\n",
       "</table>\n",
       "</div>"
      ],
      "text/plain": [
       "          Date                   Close    Volume Symbol\n",
       "0   01/06/2020      24.710.400.390.625   2928900   AMZN\n",
       "1   02/06/2020   2.472.409.912.109.370   2529900   AMZN\n",
       "2   03/06/2020     247.839.990.234.375   2671000   AMZN\n",
       "3   04/06/2020     246.060.009.765.625   2948700   AMZN\n",
       "4   05/06/2020                  2483.0   3306400   AMZN\n",
       "5   08/06/2020     252.406.005.859.375   3970700   AMZN\n",
       "6   09/06/2020   2.600.860.107.421.870   5176000   AMZN\n",
       "7   10/06/2020   2.647.449.951.171.870   4946000   AMZN\n",
       "8   11/06/2020      25.579.599.609.375   5800100   AMZN\n",
       "9   12/06/2020     254.502.001.953.125   5429600   AMZN\n",
       "10  15/06/2020   2.572.679.931.640.620   3865100   AMZN\n",
       "11  16/06/2020     261.527.001.953.125   3585600   AMZN\n",
       "12  17/06/2020     264.097.998.046.875   2951100   AMZN\n",
       "13  18/06/2020     265.397.998.046.875   2487800   AMZN\n",
       "14  19/06/2020   2.675.010.009.765.620   5777000   AMZN\n",
       "15  22/06/2020   2.713.820.068.359.370   3208800   AMZN\n",
       "16  23/06/2020   2.764.409.912.109.370   4231700   AMZN\n",
       "17  24/06/2020     273.439.990.234.375   4526600   AMZN\n",
       "18  25/06/2020       2.754.580.078.125   2968700   AMZN\n",
       "19  26/06/2020      26.928.701.171.875   6500800   AMZN\n",
       "20  29/06/2020      26.803.798.828.125   4223400   AMZN\n",
       "21  30/06/2020   2.758.820.068.359.370   3769700   AMZN\n",
       "22  02/04/2023                   3500.0  1258100   AMZN"
      ]
     },
     "execution_count": 60,
     "metadata": {},
     "output_type": "execute_result"
    }
   ],
   "source": [
    "amzn"
   ]
  },
  {
   "cell_type": "code",
   "execution_count": null,
   "metadata": {},
   "outputs": [],
   "source": [
    "amzn.reset_index(drop=True, inplace=True)\n",
    "googl.reset_index(drop=True, inplace=True)\n",
    "\n",
    "amzn.compare(googl)"
   ]
  },
  {
   "cell_type": "code",
   "execution_count": 103,
   "metadata": {},
   "outputs": [
    {
     "data": {
      "text/html": [
       "<div>\n",
       "<style scoped>\n",
       "    .dataframe tbody tr th:only-of-type {\n",
       "        vertical-align: middle;\n",
       "    }\n",
       "\n",
       "    .dataframe tbody tr th {\n",
       "        vertical-align: top;\n",
       "    }\n",
       "\n",
       "    .dataframe thead th {\n",
       "        text-align: right;\n",
       "    }\n",
       "</style>\n",
       "<table border=\"1\" class=\"dataframe\">\n",
       "  <thead>\n",
       "    <tr style=\"text-align: right;\">\n",
       "      <th></th>\n",
       "      <th>Date_x</th>\n",
       "      <th>Close _x</th>\n",
       "      <th>Volume</th>\n",
       "      <th>Symbol_x</th>\n",
       "      <th>Date_y</th>\n",
       "      <th>Close _y</th>\n",
       "      <th>Symbol_y</th>\n",
       "      <th>_merge</th>\n",
       "    </tr>\n",
       "  </thead>\n",
       "  <tbody>\n",
       "    <tr>\n",
       "      <th>0</th>\n",
       "      <td>01/06/2020</td>\n",
       "      <td>24.710.400.390.625</td>\n",
       "      <td>2928900</td>\n",
       "      <td>AMZN</td>\n",
       "      <td>NaN</td>\n",
       "      <td>NaN</td>\n",
       "      <td>NaN</td>\n",
       "      <td>left_only</td>\n",
       "    </tr>\n",
       "    <tr>\n",
       "      <th>1</th>\n",
       "      <td>02/06/2020</td>\n",
       "      <td>2.472.409.912.109.370</td>\n",
       "      <td>2529900</td>\n",
       "      <td>AMZN</td>\n",
       "      <td>NaN</td>\n",
       "      <td>NaN</td>\n",
       "      <td>NaN</td>\n",
       "      <td>left_only</td>\n",
       "    </tr>\n",
       "    <tr>\n",
       "      <th>2</th>\n",
       "      <td>03/06/2020</td>\n",
       "      <td>247.839.990.234.375</td>\n",
       "      <td>2671000</td>\n",
       "      <td>AMZN</td>\n",
       "      <td>NaN</td>\n",
       "      <td>NaN</td>\n",
       "      <td>NaN</td>\n",
       "      <td>left_only</td>\n",
       "    </tr>\n",
       "    <tr>\n",
       "      <th>3</th>\n",
       "      <td>04/06/2020</td>\n",
       "      <td>246.060.009.765.625</td>\n",
       "      <td>2948700</td>\n",
       "      <td>AMZN</td>\n",
       "      <td>NaN</td>\n",
       "      <td>NaN</td>\n",
       "      <td>NaN</td>\n",
       "      <td>left_only</td>\n",
       "    </tr>\n",
       "    <tr>\n",
       "      <th>4</th>\n",
       "      <td>05/06/2020</td>\n",
       "      <td>2483.0</td>\n",
       "      <td>3306400</td>\n",
       "      <td>AMZN</td>\n",
       "      <td>NaN</td>\n",
       "      <td>NaN</td>\n",
       "      <td>NaN</td>\n",
       "      <td>left_only</td>\n",
       "    </tr>\n",
       "    <tr>\n",
       "      <th>5</th>\n",
       "      <td>08/06/2020</td>\n",
       "      <td>252.406.005.859.375</td>\n",
       "      <td>3970700</td>\n",
       "      <td>AMZN</td>\n",
       "      <td>NaN</td>\n",
       "      <td>NaN</td>\n",
       "      <td>NaN</td>\n",
       "      <td>left_only</td>\n",
       "    </tr>\n",
       "    <tr>\n",
       "      <th>6</th>\n",
       "      <td>09/06/2020</td>\n",
       "      <td>2.600.860.107.421.870</td>\n",
       "      <td>5176000</td>\n",
       "      <td>AMZN</td>\n",
       "      <td>NaN</td>\n",
       "      <td>NaN</td>\n",
       "      <td>NaN</td>\n",
       "      <td>left_only</td>\n",
       "    </tr>\n",
       "    <tr>\n",
       "      <th>7</th>\n",
       "      <td>10/06/2020</td>\n",
       "      <td>2.647.449.951.171.870</td>\n",
       "      <td>4946000</td>\n",
       "      <td>AMZN</td>\n",
       "      <td>NaN</td>\n",
       "      <td>NaN</td>\n",
       "      <td>NaN</td>\n",
       "      <td>left_only</td>\n",
       "    </tr>\n",
       "    <tr>\n",
       "      <th>8</th>\n",
       "      <td>11/06/2020</td>\n",
       "      <td>25.579.599.609.375</td>\n",
       "      <td>5800100</td>\n",
       "      <td>AMZN</td>\n",
       "      <td>NaN</td>\n",
       "      <td>NaN</td>\n",
       "      <td>NaN</td>\n",
       "      <td>left_only</td>\n",
       "    </tr>\n",
       "    <tr>\n",
       "      <th>9</th>\n",
       "      <td>12/06/2020</td>\n",
       "      <td>254.502.001.953.125</td>\n",
       "      <td>5429600</td>\n",
       "      <td>AMZN</td>\n",
       "      <td>NaN</td>\n",
       "      <td>NaN</td>\n",
       "      <td>NaN</td>\n",
       "      <td>left_only</td>\n",
       "    </tr>\n",
       "    <tr>\n",
       "      <th>10</th>\n",
       "      <td>15/06/2020</td>\n",
       "      <td>2.572.679.931.640.620</td>\n",
       "      <td>3865100</td>\n",
       "      <td>AMZN</td>\n",
       "      <td>NaN</td>\n",
       "      <td>NaN</td>\n",
       "      <td>NaN</td>\n",
       "      <td>left_only</td>\n",
       "    </tr>\n",
       "    <tr>\n",
       "      <th>11</th>\n",
       "      <td>16/06/2020</td>\n",
       "      <td>261.527.001.953.125</td>\n",
       "      <td>3585600</td>\n",
       "      <td>AMZN</td>\n",
       "      <td>NaN</td>\n",
       "      <td>NaN</td>\n",
       "      <td>NaN</td>\n",
       "      <td>left_only</td>\n",
       "    </tr>\n",
       "    <tr>\n",
       "      <th>12</th>\n",
       "      <td>17/06/2020</td>\n",
       "      <td>264.097.998.046.875</td>\n",
       "      <td>2951100</td>\n",
       "      <td>AMZN</td>\n",
       "      <td>NaN</td>\n",
       "      <td>NaN</td>\n",
       "      <td>NaN</td>\n",
       "      <td>left_only</td>\n",
       "    </tr>\n",
       "    <tr>\n",
       "      <th>13</th>\n",
       "      <td>18/06/2020</td>\n",
       "      <td>265.397.998.046.875</td>\n",
       "      <td>2487800</td>\n",
       "      <td>AMZN</td>\n",
       "      <td>NaN</td>\n",
       "      <td>NaN</td>\n",
       "      <td>NaN</td>\n",
       "      <td>left_only</td>\n",
       "    </tr>\n",
       "    <tr>\n",
       "      <th>14</th>\n",
       "      <td>19/06/2020</td>\n",
       "      <td>2.675.010.009.765.620</td>\n",
       "      <td>5777000</td>\n",
       "      <td>AMZN</td>\n",
       "      <td>NaN</td>\n",
       "      <td>NaN</td>\n",
       "      <td>NaN</td>\n",
       "      <td>left_only</td>\n",
       "    </tr>\n",
       "    <tr>\n",
       "      <th>15</th>\n",
       "      <td>22/06/2020</td>\n",
       "      <td>2.713.820.068.359.370</td>\n",
       "      <td>3208800</td>\n",
       "      <td>AMZN</td>\n",
       "      <td>NaN</td>\n",
       "      <td>NaN</td>\n",
       "      <td>NaN</td>\n",
       "      <td>left_only</td>\n",
       "    </tr>\n",
       "    <tr>\n",
       "      <th>16</th>\n",
       "      <td>23/06/2020</td>\n",
       "      <td>2.764.409.912.109.370</td>\n",
       "      <td>4231700</td>\n",
       "      <td>AMZN</td>\n",
       "      <td>NaN</td>\n",
       "      <td>NaN</td>\n",
       "      <td>NaN</td>\n",
       "      <td>left_only</td>\n",
       "    </tr>\n",
       "    <tr>\n",
       "      <th>17</th>\n",
       "      <td>24/06/2020</td>\n",
       "      <td>273.439.990.234.375</td>\n",
       "      <td>4526600</td>\n",
       "      <td>AMZN</td>\n",
       "      <td>NaN</td>\n",
       "      <td>NaN</td>\n",
       "      <td>NaN</td>\n",
       "      <td>left_only</td>\n",
       "    </tr>\n",
       "    <tr>\n",
       "      <th>18</th>\n",
       "      <td>25/06/2020</td>\n",
       "      <td>2.754.580.078.125</td>\n",
       "      <td>2968700</td>\n",
       "      <td>AMZN</td>\n",
       "      <td>NaN</td>\n",
       "      <td>NaN</td>\n",
       "      <td>NaN</td>\n",
       "      <td>left_only</td>\n",
       "    </tr>\n",
       "    <tr>\n",
       "      <th>19</th>\n",
       "      <td>26/06/2020</td>\n",
       "      <td>26.928.701.171.875</td>\n",
       "      <td>6500800</td>\n",
       "      <td>AMZN</td>\n",
       "      <td>NaN</td>\n",
       "      <td>NaN</td>\n",
       "      <td>NaN</td>\n",
       "      <td>left_only</td>\n",
       "    </tr>\n",
       "    <tr>\n",
       "      <th>20</th>\n",
       "      <td>29/06/2020</td>\n",
       "      <td>26.803.798.828.125</td>\n",
       "      <td>4223400</td>\n",
       "      <td>AMZN</td>\n",
       "      <td>NaN</td>\n",
       "      <td>NaN</td>\n",
       "      <td>NaN</td>\n",
       "      <td>left_only</td>\n",
       "    </tr>\n",
       "    <tr>\n",
       "      <th>21</th>\n",
       "      <td>30/06/2020</td>\n",
       "      <td>2.758.820.068.359.370</td>\n",
       "      <td>3769700</td>\n",
       "      <td>AMZN</td>\n",
       "      <td>NaN</td>\n",
       "      <td>NaN</td>\n",
       "      <td>NaN</td>\n",
       "      <td>left_only</td>\n",
       "    </tr>\n",
       "    <tr>\n",
       "      <th>22</th>\n",
       "      <td>02/04/2023</td>\n",
       "      <td>3500.0</td>\n",
       "      <td>1258100</td>\n",
       "      <td>AMZN</td>\n",
       "      <td>01/06/2020</td>\n",
       "      <td>14.348.699.951.171.800</td>\n",
       "      <td>GOOGL</td>\n",
       "      <td>both</td>\n",
       "    </tr>\n",
       "    <tr>\n",
       "      <th>23</th>\n",
       "      <td>NaN</td>\n",
       "      <td>NaN</td>\n",
       "      <td>1172100</td>\n",
       "      <td>NaN</td>\n",
       "      <td>02/06/2020</td>\n",
       "      <td>144.231.005.859.375</td>\n",
       "      <td>GOOGL</td>\n",
       "      <td>right_only</td>\n",
       "    </tr>\n",
       "    <tr>\n",
       "      <th>24</th>\n",
       "      <td>NaN</td>\n",
       "      <td>NaN</td>\n",
       "      <td>1386600</td>\n",
       "      <td>NaN</td>\n",
       "      <td>03/06/2020</td>\n",
       "      <td>1439.25</td>\n",
       "      <td>GOOGL</td>\n",
       "      <td>right_only</td>\n",
       "    </tr>\n",
       "    <tr>\n",
       "      <th>25</th>\n",
       "      <td>NaN</td>\n",
       "      <td>NaN</td>\n",
       "      <td>1349100</td>\n",
       "      <td>NaN</td>\n",
       "      <td>04/06/2020</td>\n",
       "      <td>1.414.300.048.828.120</td>\n",
       "      <td>GOOGL</td>\n",
       "      <td>right_only</td>\n",
       "    </tr>\n",
       "    <tr>\n",
       "      <th>26</th>\n",
       "      <td>NaN</td>\n",
       "      <td>NaN</td>\n",
       "      <td>2132100</td>\n",
       "      <td>NaN</td>\n",
       "      <td>05/06/2020</td>\n",
       "      <td>144.002.001.953.125</td>\n",
       "      <td>GOOGL</td>\n",
       "      <td>right_only</td>\n",
       "    </tr>\n",
       "    <tr>\n",
       "      <th>27</th>\n",
       "      <td>NaN</td>\n",
       "      <td>NaN</td>\n",
       "      <td>1693900</td>\n",
       "      <td>NaN</td>\n",
       "      <td>08/06/2020</td>\n",
       "      <td>14.480.400.390.625</td>\n",
       "      <td>GOOGL</td>\n",
       "      <td>right_only</td>\n",
       "    </tr>\n",
       "    <tr>\n",
       "      <th>28</th>\n",
       "      <td>NaN</td>\n",
       "      <td>NaN</td>\n",
       "      <td>1681200</td>\n",
       "      <td>NaN</td>\n",
       "      <td>09/06/2020</td>\n",
       "      <td>14.520.799.560.546.800</td>\n",
       "      <td>GOOGL</td>\n",
       "      <td>right_only</td>\n",
       "    </tr>\n",
       "    <tr>\n",
       "      <th>29</th>\n",
       "      <td>NaN</td>\n",
       "      <td>NaN</td>\n",
       "      <td>1588100</td>\n",
       "      <td>NaN</td>\n",
       "      <td>10/06/2020</td>\n",
       "      <td>1.464.699.951.171.870</td>\n",
       "      <td>GOOGL</td>\n",
       "      <td>right_only</td>\n",
       "    </tr>\n",
       "    <tr>\n",
       "      <th>30</th>\n",
       "      <td>NaN</td>\n",
       "      <td>NaN</td>\n",
       "      <td>2357200</td>\n",
       "      <td>NaN</td>\n",
       "      <td>11/06/2020</td>\n",
       "      <td>14.019.000.244.140.600</td>\n",
       "      <td>GOOGL</td>\n",
       "      <td>right_only</td>\n",
       "    </tr>\n",
       "    <tr>\n",
       "      <th>31</th>\n",
       "      <td>NaN</td>\n",
       "      <td>NaN</td>\n",
       "      <td>1832900</td>\n",
       "      <td>NaN</td>\n",
       "      <td>12/06/2020</td>\n",
       "      <td>14.129.200.439.453.100</td>\n",
       "      <td>GOOGL</td>\n",
       "      <td>right_only</td>\n",
       "    </tr>\n",
       "    <tr>\n",
       "      <th>32</th>\n",
       "      <td>NaN</td>\n",
       "      <td>NaN</td>\n",
       "      <td>1523400</td>\n",
       "      <td>NaN</td>\n",
       "      <td>15/06/2020</td>\n",
       "      <td>1.420.739.990.234.370</td>\n",
       "      <td>GOOGL</td>\n",
       "      <td>right_only</td>\n",
       "    </tr>\n",
       "    <tr>\n",
       "      <th>33</th>\n",
       "      <td>NaN</td>\n",
       "      <td>NaN</td>\n",
       "      <td>1532400</td>\n",
       "      <td>NaN</td>\n",
       "      <td>16/06/2020</td>\n",
       "      <td>1.446.469.970.703.120</td>\n",
       "      <td>GOOGL</td>\n",
       "      <td>right_only</td>\n",
       "    </tr>\n",
       "    <tr>\n",
       "      <th>34</th>\n",
       "      <td>NaN</td>\n",
       "      <td>NaN</td>\n",
       "      <td>1528300</td>\n",
       "      <td>NaN</td>\n",
       "      <td>17/06/2020</td>\n",
       "      <td>14.525.400.390.625</td>\n",
       "      <td>GOOGL</td>\n",
       "      <td>right_only</td>\n",
       "    </tr>\n",
       "    <tr>\n",
       "      <th>35</th>\n",
       "      <td>NaN</td>\n",
       "      <td>NaN</td>\n",
       "      <td>1743100</td>\n",
       "      <td>NaN</td>\n",
       "      <td>18/06/2020</td>\n",
       "      <td>14.341.199.951.171.800</td>\n",
       "      <td>GOOGL</td>\n",
       "      <td>right_only</td>\n",
       "    </tr>\n",
       "    <tr>\n",
       "      <th>36</th>\n",
       "      <td>NaN</td>\n",
       "      <td>NaN</td>\n",
       "      <td>2639200</td>\n",
       "      <td>NaN</td>\n",
       "      <td>19/06/2020</td>\n",
       "      <td>14.246.400.146.484.300</td>\n",
       "      <td>GOOGL</td>\n",
       "      <td>right_only</td>\n",
       "    </tr>\n",
       "    <tr>\n",
       "      <th>37</th>\n",
       "      <td>NaN</td>\n",
       "      <td>NaN</td>\n",
       "      <td>1472100</td>\n",
       "      <td>NaN</td>\n",
       "      <td>22/06/2020</td>\n",
       "      <td>14.506.600.341.796.800</td>\n",
       "      <td>GOOGL</td>\n",
       "      <td>right_only</td>\n",
       "    </tr>\n",
       "    <tr>\n",
       "      <th>38</th>\n",
       "      <td>NaN</td>\n",
       "      <td>NaN</td>\n",
       "      <td>1887600</td>\n",
       "      <td>NaN</td>\n",
       "      <td>23/06/2020</td>\n",
       "      <td>146.397.998.046.875</td>\n",
       "      <td>GOOGL</td>\n",
       "      <td>right_only</td>\n",
       "    </tr>\n",
       "    <tr>\n",
       "      <th>39</th>\n",
       "      <td>NaN</td>\n",
       "      <td>NaN</td>\n",
       "      <td>1579600</td>\n",
       "      <td>NaN</td>\n",
       "      <td>24/06/2020</td>\n",
       "      <td>1.432.699.951.171.870</td>\n",
       "      <td>GOOGL</td>\n",
       "      <td>right_only</td>\n",
       "    </tr>\n",
       "    <tr>\n",
       "      <th>40</th>\n",
       "      <td>NaN</td>\n",
       "      <td>NaN</td>\n",
       "      <td>1197900</td>\n",
       "      <td>NaN</td>\n",
       "      <td>25/06/2020</td>\n",
       "      <td>14.410.999.755.859.300</td>\n",
       "      <td>GOOGL</td>\n",
       "      <td>right_only</td>\n",
       "    </tr>\n",
       "    <tr>\n",
       "      <th>41</th>\n",
       "      <td>NaN</td>\n",
       "      <td>NaN</td>\n",
       "      <td>4882000</td>\n",
       "      <td>NaN</td>\n",
       "      <td>26/06/2020</td>\n",
       "      <td>13.625.400.390.625</td>\n",
       "      <td>GOOGL</td>\n",
       "      <td>right_only</td>\n",
       "    </tr>\n",
       "    <tr>\n",
       "      <th>42</th>\n",
       "      <td>NaN</td>\n",
       "      <td>NaN</td>\n",
       "      <td>2253700</td>\n",
       "      <td>NaN</td>\n",
       "      <td>29/06/2020</td>\n",
       "      <td>13.971.700.439.453.100</td>\n",
       "      <td>GOOGL</td>\n",
       "      <td>right_only</td>\n",
       "    </tr>\n",
       "    <tr>\n",
       "      <th>43</th>\n",
       "      <td>NaN</td>\n",
       "      <td>NaN</td>\n",
       "      <td>2014300</td>\n",
       "      <td>NaN</td>\n",
       "      <td>30/06/2020</td>\n",
       "      <td>1.418.050.048.828.120</td>\n",
       "      <td>GOOGL</td>\n",
       "      <td>right_only</td>\n",
       "    </tr>\n",
       "  </tbody>\n",
       "</table>\n",
       "</div>"
      ],
      "text/plain": [
       "        Date_x                 Close _x   Volume Symbol_x      Date_y  \\\n",
       "0   01/06/2020      24.710.400.390.625   2928900     AMZN         NaN   \n",
       "1   02/06/2020   2.472.409.912.109.370   2529900     AMZN         NaN   \n",
       "2   03/06/2020     247.839.990.234.375   2671000     AMZN         NaN   \n",
       "3   04/06/2020     246.060.009.765.625   2948700     AMZN         NaN   \n",
       "4   05/06/2020                  2483.0   3306400     AMZN         NaN   \n",
       "5   08/06/2020     252.406.005.859.375   3970700     AMZN         NaN   \n",
       "6   09/06/2020   2.600.860.107.421.870   5176000     AMZN         NaN   \n",
       "7   10/06/2020   2.647.449.951.171.870   4946000     AMZN         NaN   \n",
       "8   11/06/2020      25.579.599.609.375   5800100     AMZN         NaN   \n",
       "9   12/06/2020     254.502.001.953.125   5429600     AMZN         NaN   \n",
       "10  15/06/2020   2.572.679.931.640.620   3865100     AMZN         NaN   \n",
       "11  16/06/2020     261.527.001.953.125   3585600     AMZN         NaN   \n",
       "12  17/06/2020     264.097.998.046.875   2951100     AMZN         NaN   \n",
       "13  18/06/2020     265.397.998.046.875   2487800     AMZN         NaN   \n",
       "14  19/06/2020   2.675.010.009.765.620   5777000     AMZN         NaN   \n",
       "15  22/06/2020   2.713.820.068.359.370   3208800     AMZN         NaN   \n",
       "16  23/06/2020   2.764.409.912.109.370   4231700     AMZN         NaN   \n",
       "17  24/06/2020     273.439.990.234.375   4526600     AMZN         NaN   \n",
       "18  25/06/2020       2.754.580.078.125   2968700     AMZN         NaN   \n",
       "19  26/06/2020      26.928.701.171.875   6500800     AMZN         NaN   \n",
       "20  29/06/2020      26.803.798.828.125   4223400     AMZN         NaN   \n",
       "21  30/06/2020   2.758.820.068.359.370   3769700     AMZN         NaN   \n",
       "22  02/04/2023                   3500.0  1258100     AMZN  01/06/2020   \n",
       "23         NaN                      NaN  1172100      NaN  02/06/2020   \n",
       "24         NaN                      NaN  1386600      NaN  03/06/2020   \n",
       "25         NaN                      NaN  1349100      NaN  04/06/2020   \n",
       "26         NaN                      NaN  2132100      NaN  05/06/2020   \n",
       "27         NaN                      NaN  1693900      NaN  08/06/2020   \n",
       "28         NaN                      NaN  1681200      NaN  09/06/2020   \n",
       "29         NaN                      NaN  1588100      NaN  10/06/2020   \n",
       "30         NaN                      NaN  2357200      NaN  11/06/2020   \n",
       "31         NaN                      NaN  1832900      NaN  12/06/2020   \n",
       "32         NaN                      NaN  1523400      NaN  15/06/2020   \n",
       "33         NaN                      NaN  1532400      NaN  16/06/2020   \n",
       "34         NaN                      NaN  1528300      NaN  17/06/2020   \n",
       "35         NaN                      NaN  1743100      NaN  18/06/2020   \n",
       "36         NaN                      NaN  2639200      NaN  19/06/2020   \n",
       "37         NaN                      NaN  1472100      NaN  22/06/2020   \n",
       "38         NaN                      NaN  1887600      NaN  23/06/2020   \n",
       "39         NaN                      NaN  1579600      NaN  24/06/2020   \n",
       "40         NaN                      NaN  1197900      NaN  25/06/2020   \n",
       "41         NaN                      NaN  4882000      NaN  26/06/2020   \n",
       "42         NaN                      NaN  2253700      NaN  29/06/2020   \n",
       "43         NaN                      NaN  2014300      NaN  30/06/2020   \n",
       "\n",
       "                    Close _y Symbol_y      _merge  \n",
       "0                        NaN      NaN   left_only  \n",
       "1                        NaN      NaN   left_only  \n",
       "2                        NaN      NaN   left_only  \n",
       "3                        NaN      NaN   left_only  \n",
       "4                        NaN      NaN   left_only  \n",
       "5                        NaN      NaN   left_only  \n",
       "6                        NaN      NaN   left_only  \n",
       "7                        NaN      NaN   left_only  \n",
       "8                        NaN      NaN   left_only  \n",
       "9                        NaN      NaN   left_only  \n",
       "10                       NaN      NaN   left_only  \n",
       "11                       NaN      NaN   left_only  \n",
       "12                       NaN      NaN   left_only  \n",
       "13                       NaN      NaN   left_only  \n",
       "14                       NaN      NaN   left_only  \n",
       "15                       NaN      NaN   left_only  \n",
       "16                       NaN      NaN   left_only  \n",
       "17                       NaN      NaN   left_only  \n",
       "18                       NaN      NaN   left_only  \n",
       "19                       NaN      NaN   left_only  \n",
       "20                       NaN      NaN   left_only  \n",
       "21                       NaN      NaN   left_only  \n",
       "22   14.348.699.951.171.800     GOOGL        both  \n",
       "23      144.231.005.859.375     GOOGL  right_only  \n",
       "24                  1439.25     GOOGL  right_only  \n",
       "25    1.414.300.048.828.120     GOOGL  right_only  \n",
       "26      144.002.001.953.125     GOOGL  right_only  \n",
       "27       14.480.400.390.625     GOOGL  right_only  \n",
       "28   14.520.799.560.546.800     GOOGL  right_only  \n",
       "29    1.464.699.951.171.870     GOOGL  right_only  \n",
       "30   14.019.000.244.140.600     GOOGL  right_only  \n",
       "31   14.129.200.439.453.100     GOOGL  right_only  \n",
       "32    1.420.739.990.234.370     GOOGL  right_only  \n",
       "33    1.446.469.970.703.120     GOOGL  right_only  \n",
       "34       14.525.400.390.625     GOOGL  right_only  \n",
       "35   14.341.199.951.171.800     GOOGL  right_only  \n",
       "36   14.246.400.146.484.300     GOOGL  right_only  \n",
       "37   14.506.600.341.796.800     GOOGL  right_only  \n",
       "38      146.397.998.046.875     GOOGL  right_only  \n",
       "39    1.432.699.951.171.870     GOOGL  right_only  \n",
       "40   14.410.999.755.859.300     GOOGL  right_only  \n",
       "41       13.625.400.390.625     GOOGL  right_only  \n",
       "42   13.971.700.439.453.100     GOOGL  right_only  \n",
       "43    1.418.050.048.828.120     GOOGL  right_only  "
      ]
     },
     "execution_count": 103,
     "metadata": {},
     "output_type": "execute_result"
    }
   ],
   "source": [
    "df_diff = amzn.merge(googl, indicator=True, how='outer', on='Volume')\n",
    "df_diff"
   ]
  },
  {
   "cell_type": "code",
   "execution_count": 68,
   "metadata": {},
   "outputs": [],
   "source": [
    "df_diff = df_diff.loc[lambda x : x['_merge'] == 'both']"
   ]
  },
  {
   "cell_type": "code",
   "execution_count": 69,
   "metadata": {},
   "outputs": [
    {
     "data": {
      "text/html": [
       "<div>\n",
       "<style scoped>\n",
       "    .dataframe tbody tr th:only-of-type {\n",
       "        vertical-align: middle;\n",
       "    }\n",
       "\n",
       "    .dataframe tbody tr th {\n",
       "        vertical-align: top;\n",
       "    }\n",
       "\n",
       "    .dataframe thead th {\n",
       "        text-align: right;\n",
       "    }\n",
       "</style>\n",
       "<table border=\"1\" class=\"dataframe\">\n",
       "  <thead>\n",
       "    <tr style=\"text-align: right;\">\n",
       "      <th></th>\n",
       "      <th>Date_x</th>\n",
       "      <th>Close _x</th>\n",
       "      <th>Volume</th>\n",
       "      <th>Symbol_x</th>\n",
       "      <th>Date_y</th>\n",
       "      <th>Close _y</th>\n",
       "      <th>Symbol_y</th>\n",
       "      <th>_merge</th>\n",
       "    </tr>\n",
       "  </thead>\n",
       "  <tbody>\n",
       "    <tr>\n",
       "      <th>22</th>\n",
       "      <td>02/04/2023</td>\n",
       "      <td>3500.0</td>\n",
       "      <td>1258100</td>\n",
       "      <td>AMZN</td>\n",
       "      <td>01/06/2020</td>\n",
       "      <td>14.348.699.951.171.800</td>\n",
       "      <td>GOOGL</td>\n",
       "      <td>both</td>\n",
       "    </tr>\n",
       "  </tbody>\n",
       "</table>\n",
       "</div>"
      ],
      "text/plain": [
       "        Date_x  Close _x   Volume Symbol_x      Date_y  \\\n",
       "22  02/04/2023    3500.0  1258100     AMZN  01/06/2020   \n",
       "\n",
       "                    Close _y Symbol_y _merge  \n",
       "22   14.348.699.951.171.800     GOOGL   both  "
      ]
     },
     "execution_count": 69,
     "metadata": {},
     "output_type": "execute_result"
    }
   ],
   "source": [
    "df_diff"
   ]
  },
  {
   "cell_type": "code",
   "execution_count": 105,
   "metadata": {},
   "outputs": [
    {
     "data": {
      "text/plain": [
       "False"
      ]
     },
     "execution_count": 105,
     "metadata": {},
     "output_type": "execute_result"
    }
   ],
   "source": [
    "df_eq = amzn.equals(googl)\n",
    "df_eq"
   ]
  },
  {
   "cell_type": "code",
   "execution_count": 97,
   "metadata": {},
   "outputs": [
    {
     "data": {
      "text/plain": [
       "True"
      ]
     },
     "execution_count": 97,
     "metadata": {},
     "output_type": "execute_result"
    }
   ],
   "source": [
    "df_difbol = amzn['Volume'].reset_index(drop=True, inplace=True) == googl['Volume'].reset_index(drop=True, inplace=True)\n",
    "df_difbol"
   ]
  },
  {
   "cell_type": "code",
   "execution_count": 5,
   "metadata": {},
   "outputs": [
    {
     "data": {
      "text/html": [
       "<div>\n",
       "<style scoped>\n",
       "    .dataframe tbody tr th:only-of-type {\n",
       "        vertical-align: middle;\n",
       "    }\n",
       "\n",
       "    .dataframe tbody tr th {\n",
       "        vertical-align: top;\n",
       "    }\n",
       "\n",
       "    .dataframe thead th {\n",
       "        text-align: right;\n",
       "    }\n",
       "</style>\n",
       "<table border=\"1\" class=\"dataframe\">\n",
       "  <thead>\n",
       "    <tr style=\"text-align: right;\">\n",
       "      <th></th>\n",
       "      <th>Data_Full</th>\n",
       "      <th>Fechamento</th>\n",
       "      <th>Close</th>\n",
       "      <th>Volume</th>\n",
       "      <th>Symbol</th>\n",
       "    </tr>\n",
       "  </thead>\n",
       "  <tbody>\n",
       "    <tr>\n",
       "      <th>0</th>\n",
       "      <td>0</td>\n",
       "      <td>01/06/2020</td>\n",
       "      <td>24.710.400.390.625</td>\n",
       "      <td>2928900</td>\n",
       "      <td>AMZN</td>\n",
       "    </tr>\n",
       "    <tr>\n",
       "      <th>1</th>\n",
       "      <td>1</td>\n",
       "      <td>02/06/2020</td>\n",
       "      <td>2.472.409.912.109.370</td>\n",
       "      <td>2529900</td>\n",
       "      <td>AMZN</td>\n",
       "    </tr>\n",
       "    <tr>\n",
       "      <th>2</th>\n",
       "      <td>2</td>\n",
       "      <td>03/06/2020</td>\n",
       "      <td>247.839.990.234.375</td>\n",
       "      <td>2671000</td>\n",
       "      <td>AMZN</td>\n",
       "    </tr>\n",
       "    <tr>\n",
       "      <th>3</th>\n",
       "      <td>3</td>\n",
       "      <td>04/06/2020</td>\n",
       "      <td>246.060.009.765.625</td>\n",
       "      <td>2948700</td>\n",
       "      <td>AMZN</td>\n",
       "    </tr>\n",
       "    <tr>\n",
       "      <th>4</th>\n",
       "      <td>4</td>\n",
       "      <td>05/06/2020</td>\n",
       "      <td>2483.0</td>\n",
       "      <td>3306400</td>\n",
       "      <td>AMZN</td>\n",
       "    </tr>\n",
       "  </tbody>\n",
       "</table>\n",
       "</div>"
      ],
      "text/plain": [
       "   Data_Full  Fechamento                   Close    Volume Symbol\n",
       "0          0  01/06/2020      24.710.400.390.625   2928900   AMZN\n",
       "1          1  02/06/2020   2.472.409.912.109.370   2529900   AMZN\n",
       "2          2  03/06/2020     247.839.990.234.375   2671000   AMZN\n",
       "3          3  04/06/2020     246.060.009.765.625   2948700   AMZN\n",
       "4          4  05/06/2020                  2483.0   3306400   AMZN"
      ]
     },
     "execution_count": 5,
     "metadata": {},
     "output_type": "execute_result"
    }
   ],
   "source": [
    "#Exemplo de renomear as colunas pelo index (posicao) delas no dataframe\n",
    "amzn_noidx.rename(columns={amzn_noidx.columns[0]: 'Data_Full', amzn_noidx.columns[1]: 'Fechamento'}, inplace=True)\n",
    "amzn_noidx.head()"
   ]
  },
  {
   "cell_type": "code",
   "execution_count": 48,
   "metadata": {},
   "outputs": [
    {
     "data": {
      "text/html": [
       "<div>\n",
       "<style scoped>\n",
       "    .dataframe tbody tr th:only-of-type {\n",
       "        vertical-align: middle;\n",
       "    }\n",
       "\n",
       "    .dataframe tbody tr th {\n",
       "        vertical-align: top;\n",
       "    }\n",
       "\n",
       "    .dataframe thead th {\n",
       "        text-align: right;\n",
       "    }\n",
       "</style>\n",
       "<table border=\"1\" class=\"dataframe\">\n",
       "  <thead>\n",
       "    <tr style=\"text-align: right;\">\n",
       "      <th></th>\n",
       "      <th>AMZN_ Close</th>\n",
       "      <th>AMZN_Volume</th>\n",
       "    </tr>\n",
       "    <tr>\n",
       "      <th>Date</th>\n",
       "      <th></th>\n",
       "      <th></th>\n",
       "    </tr>\n",
       "  </thead>\n",
       "  <tbody>\n",
       "    <tr>\n",
       "      <th>01/06/2020</th>\n",
       "      <td>24.710.400.390.625</td>\n",
       "      <td>2928900</td>\n",
       "    </tr>\n",
       "  </tbody>\n",
       "</table>\n",
       "</div>"
      ],
      "text/plain": [
       "                    AMZN_ Close   AMZN_Volume\n",
       "Date                                         \n",
       "01/06/2020   24.710.400.390.625       2928900"
      ]
     },
     "execution_count": 48,
     "metadata": {},
     "output_type": "execute_result"
    }
   ],
   "source": [
    "amzn.head(1)"
   ]
  },
  {
   "cell_type": "code",
   "execution_count": 7,
   "metadata": {},
   "outputs": [
    {
     "data": {
      "text/html": [
       "<div>\n",
       "<style scoped>\n",
       "    .dataframe tbody tr th:only-of-type {\n",
       "        vertical-align: middle;\n",
       "    }\n",
       "\n",
       "    .dataframe tbody tr th {\n",
       "        vertical-align: top;\n",
       "    }\n",
       "\n",
       "    .dataframe thead th {\n",
       "        text-align: right;\n",
       "    }\n",
       "</style>\n",
       "<table border=\"1\" class=\"dataframe\">\n",
       "  <thead>\n",
       "    <tr style=\"text-align: right;\">\n",
       "      <th></th>\n",
       "      <th>Date</th>\n",
       "      <th>Close</th>\n",
       "      <th>Volume</th>\n",
       "      <th>Symbol</th>\n",
       "    </tr>\n",
       "  </thead>\n",
       "  <tbody>\n",
       "    <tr>\n",
       "      <th>0</th>\n",
       "      <td>01/06/2020</td>\n",
       "      <td>1.828.300.018.310.540</td>\n",
       "      <td>22622400</td>\n",
       "      <td>MSFT</td>\n",
       "    </tr>\n",
       "  </tbody>\n",
       "</table>\n",
       "</div>"
      ],
      "text/plain": [
       "         Date                   Close     Volume Symbol\n",
       "0  01/06/2020   1.828.300.018.310.540   22622400   MSFT"
      ]
     },
     "execution_count": 7,
     "metadata": {},
     "output_type": "execute_result"
    }
   ],
   "source": [
    "msft.head(1)"
   ]
  },
  {
   "cell_type": "code",
   "execution_count": 8,
   "metadata": {},
   "outputs": [
    {
     "data": {
      "text/html": [
       "<div>\n",
       "<style scoped>\n",
       "    .dataframe tbody tr th:only-of-type {\n",
       "        vertical-align: middle;\n",
       "    }\n",
       "\n",
       "    .dataframe tbody tr th {\n",
       "        vertical-align: top;\n",
       "    }\n",
       "\n",
       "    .dataframe thead th {\n",
       "        text-align: right;\n",
       "    }\n",
       "</style>\n",
       "<table border=\"1\" class=\"dataframe\">\n",
       "  <thead>\n",
       "    <tr style=\"text-align: right;\">\n",
       "      <th></th>\n",
       "      <th>Date</th>\n",
       "      <th>Close</th>\n",
       "      <th>Volume</th>\n",
       "      <th>Symbol</th>\n",
       "    </tr>\n",
       "  </thead>\n",
       "  <tbody>\n",
       "    <tr>\n",
       "      <th>0</th>\n",
       "      <td>01/06/2020</td>\n",
       "      <td>14.348.699.951.171.800</td>\n",
       "      <td>1258100</td>\n",
       "      <td>GOOGL</td>\n",
       "    </tr>\n",
       "  </tbody>\n",
       "</table>\n",
       "</div>"
      ],
      "text/plain": [
       "         Date                    Close    Volume Symbol\n",
       "0  01/06/2020   14.348.699.951.171.800   1258100  GOOGL"
      ]
     },
     "execution_count": 8,
     "metadata": {},
     "output_type": "execute_result"
    }
   ],
   "source": [
    "googl.head(1)"
   ]
  },
  {
   "cell_type": "markdown",
   "metadata": {},
   "source": [
    "-Verificar as info gerais do DataFrame, verificando que ambos tem as mesmas estruturas e conjuntos de registros"
   ]
  },
  {
   "cell_type": "code",
   "execution_count": 9,
   "metadata": {},
   "outputs": [
    {
     "name": "stdout",
     "output_type": "stream",
     "text": [
      "<class 'pandas.core.frame.DataFrame'>\n",
      "Int64Index: 22 entries, 0 to 21\n",
      "Data columns (total 4 columns):\n",
      " #   Column   Non-Null Count  Dtype \n",
      "---  ------   --------------  ----- \n",
      " 0   Date     22 non-null     object\n",
      " 1    Close   22 non-null     object\n",
      " 2   Volume   22 non-null     int64 \n",
      " 3   Symbol   22 non-null     object\n",
      "dtypes: int64(1), object(3)\n",
      "memory usage: 880.0+ bytes\n"
     ]
    }
   ],
   "source": [
    "googl.info()"
   ]
  },
  {
   "cell_type": "markdown",
   "metadata": {},
   "source": [
    "# Concatenation of Tidy Data Source"
   ]
  },
  {
   "cell_type": "code",
   "execution_count": 10,
   "metadata": {},
   "outputs": [
    {
     "name": "stderr",
     "output_type": "stream",
     "text": [
      "C:\\Users\\jrjos\\AppData\\Local\\Temp\\ipykernel_33088\\1678780523.py:2: FutureWarning: The frame.append method is deprecated and will be removed from pandas in a future version. Use pandas.concat instead.\n",
      "  all_df = all_df.append([amzn, googl, msft])\n"
     ]
    }
   ],
   "source": [
    "all_df = pd.DataFrame()\n",
    "all_df = all_df.append([amzn, googl, msft])\n"
   ]
  },
  {
   "cell_type": "code",
   "execution_count": 11,
   "metadata": {},
   "outputs": [
    {
     "name": "stdout",
     "output_type": "stream",
     "text": [
      "<class 'pandas.core.frame.DataFrame'>\n",
      "Int64Index: 66 entries, 0 to 21\n",
      "Data columns (total 4 columns):\n",
      " #   Column   Non-Null Count  Dtype \n",
      "---  ------   --------------  ----- \n",
      " 0   Date     66 non-null     object\n",
      " 1    Close   66 non-null     object\n",
      " 2   Volume   66 non-null     int64 \n",
      " 3   Symbol   66 non-null     object\n",
      "dtypes: int64(1), object(3)\n",
      "memory usage: 2.6+ KB\n"
     ]
    }
   ],
   "source": [
    "all_df.info()"
   ]
  },
  {
   "cell_type": "code",
   "execution_count": 12,
   "metadata": {},
   "outputs": [],
   "source": [
    "all_df.reset_index(drop=True, inplace=True)"
   ]
  },
  {
   "cell_type": "code",
   "execution_count": 13,
   "metadata": {},
   "outputs": [
    {
     "data": {
      "text/plain": [
       "(66, 4)"
      ]
     },
     "execution_count": 13,
     "metadata": {},
     "output_type": "execute_result"
    }
   ],
   "source": [
    "all_df.shape"
   ]
  },
  {
   "cell_type": "code",
   "execution_count": 14,
   "metadata": {},
   "outputs": [
    {
     "data": {
      "text/html": [
       "<div>\n",
       "<style scoped>\n",
       "    .dataframe tbody tr th:only-of-type {\n",
       "        vertical-align: middle;\n",
       "    }\n",
       "\n",
       "    .dataframe tbody tr th {\n",
       "        vertical-align: top;\n",
       "    }\n",
       "\n",
       "    .dataframe thead th {\n",
       "        text-align: right;\n",
       "    }\n",
       "</style>\n",
       "<table border=\"1\" class=\"dataframe\">\n",
       "  <thead>\n",
       "    <tr style=\"text-align: right;\">\n",
       "      <th></th>\n",
       "      <th>Date</th>\n",
       "      <th>Close</th>\n",
       "      <th>Volume</th>\n",
       "      <th>Symbol</th>\n",
       "    </tr>\n",
       "  </thead>\n",
       "  <tbody>\n",
       "    <tr>\n",
       "      <th>0</th>\n",
       "      <td>01/06/2020</td>\n",
       "      <td>24.710.400.390.625</td>\n",
       "      <td>2928900</td>\n",
       "      <td>AMZN</td>\n",
       "    </tr>\n",
       "    <tr>\n",
       "      <th>1</th>\n",
       "      <td>02/06/2020</td>\n",
       "      <td>2.472.409.912.109.370</td>\n",
       "      <td>2529900</td>\n",
       "      <td>AMZN</td>\n",
       "    </tr>\n",
       "    <tr>\n",
       "      <th>2</th>\n",
       "      <td>03/06/2020</td>\n",
       "      <td>247.839.990.234.375</td>\n",
       "      <td>2671000</td>\n",
       "      <td>AMZN</td>\n",
       "    </tr>\n",
       "  </tbody>\n",
       "</table>\n",
       "</div>"
      ],
      "text/plain": [
       "         Date                   Close    Volume Symbol\n",
       "0  01/06/2020      24.710.400.390.625   2928900   AMZN\n",
       "1  02/06/2020   2.472.409.912.109.370   2529900   AMZN\n",
       "2  03/06/2020     247.839.990.234.375   2671000   AMZN"
      ]
     },
     "execution_count": 14,
     "metadata": {},
     "output_type": "execute_result"
    }
   ],
   "source": [
    "all_df.head(3)"
   ]
  },
  {
   "cell_type": "markdown",
   "metadata": {},
   "source": [
    "# Concatenation of tidy data source - pd.concat()"
   ]
  },
  {
   "cell_type": "code",
   "execution_count": 15,
   "metadata": {},
   "outputs": [
    {
     "data": {
      "text/plain": [
       "(66, 4)"
      ]
     },
     "execution_count": 15,
     "metadata": {},
     "output_type": "execute_result"
    }
   ],
   "source": [
    "#concat e append são a mesma funcionalidade -->> adicionar linhas ao final do df, porem o concat eh mais performatico e recente\n",
    "\n",
    "all_concat = pd.concat([amzn, googl, msft])\n",
    "all_concat.reset_index(drop=True, inplace=True)\n",
    "all_concat.shape\n"
   ]
  },
  {
   "cell_type": "code",
   "execution_count": 16,
   "metadata": {},
   "outputs": [
    {
     "data": {
      "text/html": [
       "<div>\n",
       "<style scoped>\n",
       "    .dataframe tbody tr th:only-of-type {\n",
       "        vertical-align: middle;\n",
       "    }\n",
       "\n",
       "    .dataframe tbody tr th {\n",
       "        vertical-align: top;\n",
       "    }\n",
       "\n",
       "    .dataframe thead th {\n",
       "        text-align: right;\n",
       "    }\n",
       "</style>\n",
       "<table border=\"1\" class=\"dataframe\">\n",
       "  <thead>\n",
       "    <tr style=\"text-align: right;\">\n",
       "      <th></th>\n",
       "      <th>Date</th>\n",
       "      <th>Close</th>\n",
       "      <th>Volume</th>\n",
       "      <th>Symbol</th>\n",
       "    </tr>\n",
       "  </thead>\n",
       "  <tbody>\n",
       "    <tr>\n",
       "      <th>0</th>\n",
       "      <td>01/06/2020</td>\n",
       "      <td>24.710.400.390.625</td>\n",
       "      <td>2928900</td>\n",
       "      <td>AMZN</td>\n",
       "    </tr>\n",
       "    <tr>\n",
       "      <th>1</th>\n",
       "      <td>02/06/2020</td>\n",
       "      <td>2.472.409.912.109.370</td>\n",
       "      <td>2529900</td>\n",
       "      <td>AMZN</td>\n",
       "    </tr>\n",
       "    <tr>\n",
       "      <th>2</th>\n",
       "      <td>03/06/2020</td>\n",
       "      <td>247.839.990.234.375</td>\n",
       "      <td>2671000</td>\n",
       "      <td>AMZN</td>\n",
       "    </tr>\n",
       "  </tbody>\n",
       "</table>\n",
       "</div>"
      ],
      "text/plain": [
       "         Date                   Close    Volume Symbol\n",
       "0  01/06/2020      24.710.400.390.625   2928900   AMZN\n",
       "1  02/06/2020   2.472.409.912.109.370   2529900   AMZN\n",
       "2  03/06/2020     247.839.990.234.375   2671000   AMZN"
      ]
     },
     "execution_count": 16,
     "metadata": {},
     "output_type": "execute_result"
    }
   ],
   "source": [
    "all_concat.head(3)"
   ]
  },
  {
   "cell_type": "markdown",
   "metadata": {},
   "source": [
    "# Multi-Level indexing"
   ]
  },
  {
   "cell_type": "code",
   "execution_count": 17,
   "metadata": {},
   "outputs": [
    {
     "data": {
      "text/html": [
       "<div>\n",
       "<style scoped>\n",
       "    .dataframe tbody tr th:only-of-type {\n",
       "        vertical-align: middle;\n",
       "    }\n",
       "\n",
       "    .dataframe tbody tr th {\n",
       "        vertical-align: top;\n",
       "    }\n",
       "\n",
       "    .dataframe thead th {\n",
       "        text-align: right;\n",
       "    }\n",
       "</style>\n",
       "<table border=\"1\" class=\"dataframe\">\n",
       "  <thead>\n",
       "    <tr style=\"text-align: right;\">\n",
       "      <th></th>\n",
       "      <th></th>\n",
       "      <th>Close</th>\n",
       "      <th>Volume</th>\n",
       "    </tr>\n",
       "    <tr>\n",
       "      <th>Symbol</th>\n",
       "      <th>Date</th>\n",
       "      <th></th>\n",
       "      <th></th>\n",
       "    </tr>\n",
       "  </thead>\n",
       "  <tbody>\n",
       "    <tr>\n",
       "      <th rowspan=\"3\" valign=\"top\">AMZN</th>\n",
       "      <th>01/06/2020</th>\n",
       "      <td>24.710.400.390.625</td>\n",
       "      <td>2928900</td>\n",
       "    </tr>\n",
       "    <tr>\n",
       "      <th>02/06/2020</th>\n",
       "      <td>2.472.409.912.109.370</td>\n",
       "      <td>2529900</td>\n",
       "    </tr>\n",
       "    <tr>\n",
       "      <th>03/06/2020</th>\n",
       "      <td>247.839.990.234.375</td>\n",
       "      <td>2671000</td>\n",
       "    </tr>\n",
       "  </tbody>\n",
       "</table>\n",
       "</div>"
      ],
      "text/plain": [
       "                                    Close    Volume\n",
       "Symbol Date                                        \n",
       "AMZN   01/06/2020      24.710.400.390.625   2928900\n",
       "       02/06/2020   2.472.409.912.109.370   2529900\n",
       "       03/06/2020     247.839.990.234.375   2671000"
      ]
     },
     "execution_count": 17,
     "metadata": {},
     "output_type": "execute_result"
    }
   ],
   "source": [
    "all_concat.set_index(['Symbol', 'Date'], inplace=True)\n",
    "all_concat.head(3)"
   ]
  },
  {
   "cell_type": "code",
   "execution_count": 18,
   "metadata": {},
   "outputs": [
    {
     "data": {
      "text/html": [
       "<div>\n",
       "<style scoped>\n",
       "    .dataframe tbody tr th:only-of-type {\n",
       "        vertical-align: middle;\n",
       "    }\n",
       "\n",
       "    .dataframe tbody tr th {\n",
       "        vertical-align: top;\n",
       "    }\n",
       "\n",
       "    .dataframe thead th {\n",
       "        text-align: right;\n",
       "    }\n",
       "</style>\n",
       "<table border=\"1\" class=\"dataframe\">\n",
       "  <thead>\n",
       "    <tr style=\"text-align: right;\">\n",
       "      <th></th>\n",
       "      <th></th>\n",
       "      <th>Close</th>\n",
       "      <th>Volume</th>\n",
       "    </tr>\n",
       "    <tr>\n",
       "      <th>Symbol</th>\n",
       "      <th>Date</th>\n",
       "      <th></th>\n",
       "      <th></th>\n",
       "    </tr>\n",
       "  </thead>\n",
       "  <tbody>\n",
       "    <tr>\n",
       "      <th rowspan=\"5\" valign=\"top\">AMZN</th>\n",
       "      <th>01/06/2020</th>\n",
       "      <td>24.710.400.390.625</td>\n",
       "      <td>2928900</td>\n",
       "    </tr>\n",
       "    <tr>\n",
       "      <th>02/06/2020</th>\n",
       "      <td>2.472.409.912.109.370</td>\n",
       "      <td>2529900</td>\n",
       "    </tr>\n",
       "    <tr>\n",
       "      <th>03/06/2020</th>\n",
       "      <td>247.839.990.234.375</td>\n",
       "      <td>2671000</td>\n",
       "    </tr>\n",
       "    <tr>\n",
       "      <th>04/06/2020</th>\n",
       "      <td>246.060.009.765.625</td>\n",
       "      <td>2948700</td>\n",
       "    </tr>\n",
       "    <tr>\n",
       "      <th>05/06/2020</th>\n",
       "      <td>2483.0</td>\n",
       "      <td>3306400</td>\n",
       "    </tr>\n",
       "  </tbody>\n",
       "</table>\n",
       "</div>"
      ],
      "text/plain": [
       "                                    Close    Volume\n",
       "Symbol Date                                        \n",
       "AMZN   01/06/2020      24.710.400.390.625   2928900\n",
       "       02/06/2020   2.472.409.912.109.370   2529900\n",
       "       03/06/2020     247.839.990.234.375   2671000\n",
       "       04/06/2020     246.060.009.765.625   2948700\n",
       "       05/06/2020                  2483.0   3306400"
      ]
     },
     "execution_count": 18,
     "metadata": {},
     "output_type": "execute_result"
    }
   ],
   "source": [
    "all_concat.sort_index(inplace=True)\n",
    "all_concat.head()"
   ]
  },
  {
   "cell_type": "code",
   "execution_count": 21,
   "metadata": {},
   "outputs": [
    {
     "data": {
      "text/plain": [
       " Close      2483.0 \n",
       "Volume      3306400\n",
       "Name: (AMZN, 05/06/2020), dtype: object"
      ]
     },
     "execution_count": 21,
     "metadata": {},
     "output_type": "execute_result"
    }
   ],
   "source": [
    "#Por usar multi index infere que os campos ficam acessiveis como tuples, aonde tem que passar pelo loc, qual a chave e as demais colunas\n",
    "#todas as colunas caracterizada pelo ':' para a tupla AMZN em 02/06/2020\n",
    "all_concat.loc[('AMZN', '05/06/2020'), :]"
   ]
  },
  {
   "cell_type": "code",
   "execution_count": 22,
   "metadata": {},
   "outputs": [
    {
     "data": {
      "text/plain": [
       "2928900"
      ]
     },
     "execution_count": 22,
     "metadata": {},
     "output_type": "execute_result"
    }
   ],
   "source": [
    "#Somente a coluna Volume\n",
    "all_concat.loc[('AMZN', '01/06/2020'), 'Volume']"
   ]
  },
  {
   "cell_type": "code",
   "execution_count": 23,
   "metadata": {},
   "outputs": [
    {
     "data": {
      "text/plain": [
       "Symbol  Date      \n",
       "AMZN    01/06/2020     2928900\n",
       "        02/06/2020     2529900\n",
       "        03/06/2020     2671000\n",
       "        04/06/2020     2948700\n",
       "        05/06/2020     3306400\n",
       "                        ...   \n",
       "MSFT    24/06/2020    36740600\n",
       "        25/06/2020    27803900\n",
       "        26/06/2020    54675800\n",
       "        29/06/2020    26701600\n",
       "        30/06/2020    34310300\n",
       "Name: Volume, Length: 66, dtype: int64"
      ]
     },
     "execution_count": 23,
     "metadata": {},
     "output_type": "execute_result"
    }
   ],
   "source": [
    "#TUDO das tuplas somente para Volume\n",
    "all_concat.loc[:, 'Volume']"
   ]
  },
  {
   "cell_type": "code",
   "execution_count": 24,
   "metadata": {},
   "outputs": [
    {
     "data": {
      "text/plain": [
       "FrozenList([['AMZN', 'GOOGL', 'MSFT'], ['01/06/2020', '02/06/2020', '03/06/2020', '04/06/2020', '05/06/2020', '08/06/2020', '09/06/2020', '10/06/2020', '11/06/2020', '12/06/2020', '15/06/2020', '16/06/2020', '17/06/2020', '18/06/2020', '19/06/2020', '22/06/2020', '23/06/2020', '24/06/2020', '25/06/2020', '26/06/2020', '29/06/2020', '30/06/2020']])"
      ]
     },
     "execution_count": 24,
     "metadata": {},
     "output_type": "execute_result"
    }
   ],
   "source": [
    "all_concat.index.levels"
   ]
  },
  {
   "cell_type": "code",
   "execution_count": 25,
   "metadata": {},
   "outputs": [
    {
     "data": {
      "text/plain": [
       "Index(['AMZN', 'GOOGL', 'MSFT'], dtype='object', name='Symbol')"
      ]
     },
     "execution_count": 25,
     "metadata": {},
     "output_type": "execute_result"
    }
   ],
   "source": [
    "all_concat.index.levels[0]"
   ]
  },
  {
   "cell_type": "code",
   "execution_count": 26,
   "metadata": {},
   "outputs": [
    {
     "data": {
      "text/plain": [
       "Index(['01/06/2020', '02/06/2020', '03/06/2020', '04/06/2020', '05/06/2020',\n",
       "       '08/06/2020', '09/06/2020', '10/06/2020', '11/06/2020', '12/06/2020',\n",
       "       '15/06/2020', '16/06/2020', '17/06/2020', '18/06/2020', '19/06/2020',\n",
       "       '22/06/2020', '23/06/2020', '24/06/2020', '25/06/2020', '26/06/2020',\n",
       "       '29/06/2020', '30/06/2020'],\n",
       "      dtype='object', name='Date')"
      ]
     },
     "execution_count": 26,
     "metadata": {},
     "output_type": "execute_result"
    }
   ],
   "source": [
    "all_concat.index.levels[1]"
   ]
  },
  {
   "cell_type": "code",
   "execution_count": 27,
   "metadata": {},
   "outputs": [
    {
     "data": {
      "text/html": [
       "<div>\n",
       "<style scoped>\n",
       "    .dataframe tbody tr th:only-of-type {\n",
       "        vertical-align: middle;\n",
       "    }\n",
       "\n",
       "    .dataframe tbody tr th {\n",
       "        vertical-align: top;\n",
       "    }\n",
       "\n",
       "    .dataframe thead th {\n",
       "        text-align: right;\n",
       "    }\n",
       "</style>\n",
       "<table border=\"1\" class=\"dataframe\">\n",
       "  <thead>\n",
       "    <tr style=\"text-align: right;\">\n",
       "      <th></th>\n",
       "      <th></th>\n",
       "      <th>Close</th>\n",
       "      <th>Volume</th>\n",
       "    </tr>\n",
       "    <tr>\n",
       "      <th>Symbol</th>\n",
       "      <th>Date</th>\n",
       "      <th></th>\n",
       "      <th></th>\n",
       "    </tr>\n",
       "  </thead>\n",
       "  <tbody>\n",
       "    <tr>\n",
       "      <th>AMZN</th>\n",
       "      <th>02/06/2020</th>\n",
       "      <td>2.472.409.912.109.370</td>\n",
       "      <td>2529900</td>\n",
       "    </tr>\n",
       "    <tr>\n",
       "      <th>GOOGL</th>\n",
       "      <th>02/06/2020</th>\n",
       "      <td>144.231.005.859.375</td>\n",
       "      <td>1172100</td>\n",
       "    </tr>\n",
       "  </tbody>\n",
       "</table>\n",
       "</div>"
      ],
      "text/plain": [
       "                                    Close    Volume\n",
       "Symbol Date                                        \n",
       "AMZN   02/06/2020   2.472.409.912.109.370   2529900\n",
       "GOOGL  02/06/2020     144.231.005.859.375   1172100"
      ]
     },
     "execution_count": 27,
     "metadata": {},
     "output_type": "execute_result"
    }
   ],
   "source": [
    "#Possivel passar lista interna para o Index como abaixo, e retornar os valores dentro dessa lista\n",
    "all_concat.loc[(['AMZN', 'GOOGL'], '02/06/2020'), :]"
   ]
  },
  {
   "cell_type": "code",
   "execution_count": 28,
   "metadata": {},
   "outputs": [
    {
     "data": {
      "text/html": [
       "<div>\n",
       "<style scoped>\n",
       "    .dataframe tbody tr th:only-of-type {\n",
       "        vertical-align: middle;\n",
       "    }\n",
       "\n",
       "    .dataframe tbody tr th {\n",
       "        vertical-align: top;\n",
       "    }\n",
       "\n",
       "    .dataframe thead th {\n",
       "        text-align: right;\n",
       "    }\n",
       "</style>\n",
       "<table border=\"1\" class=\"dataframe\">\n",
       "  <thead>\n",
       "    <tr style=\"text-align: right;\">\n",
       "      <th></th>\n",
       "      <th></th>\n",
       "      <th>Close</th>\n",
       "      <th>Volume</th>\n",
       "    </tr>\n",
       "    <tr>\n",
       "      <th>Symbol</th>\n",
       "      <th>Date</th>\n",
       "      <th></th>\n",
       "      <th></th>\n",
       "    </tr>\n",
       "  </thead>\n",
       "  <tbody>\n",
       "    <tr>\n",
       "      <th>AMZN</th>\n",
       "      <th>02/06/2020</th>\n",
       "      <td>2.472.409.912.109.370</td>\n",
       "      <td>2529900</td>\n",
       "    </tr>\n",
       "    <tr>\n",
       "      <th>GOOGL</th>\n",
       "      <th>02/06/2020</th>\n",
       "      <td>144.231.005.859.375</td>\n",
       "      <td>1172100</td>\n",
       "    </tr>\n",
       "    <tr>\n",
       "      <th>MSFT</th>\n",
       "      <th>02/06/2020</th>\n",
       "      <td>18.491.000.366.210.900</td>\n",
       "      <td>30794600</td>\n",
       "    </tr>\n",
       "  </tbody>\n",
       "</table>\n",
       "</div>"
      ],
      "text/plain": [
       "                                     Close     Volume\n",
       "Symbol Date                                          \n",
       "AMZN   02/06/2020    2.472.409.912.109.370    2529900\n",
       "GOOGL  02/06/2020      144.231.005.859.375    1172100\n",
       "MSFT   02/06/2020   18.491.000.366.210.900   30794600"
      ]
     },
     "execution_count": 28,
     "metadata": {},
     "output_type": "execute_result"
    }
   ],
   "source": [
    "#Comando slice -->> Pesquisar mais nunca usei\n",
    "all_concat.loc[(slice(None), '02/06/2020'), :]"
   ]
  },
  {
   "cell_type": "code",
   "execution_count": 30,
   "metadata": {},
   "outputs": [
    {
     "data": {
      "text/html": [
       "<div>\n",
       "<style scoped>\n",
       "    .dataframe tbody tr th:only-of-type {\n",
       "        vertical-align: middle;\n",
       "    }\n",
       "\n",
       "    .dataframe tbody tr th {\n",
       "        vertical-align: top;\n",
       "    }\n",
       "\n",
       "    .dataframe thead th {\n",
       "        text-align: right;\n",
       "    }\n",
       "</style>\n",
       "<table border=\"1\" class=\"dataframe\">\n",
       "  <thead>\n",
       "    <tr style=\"text-align: right;\">\n",
       "      <th></th>\n",
       "      <th></th>\n",
       "      <th>Close</th>\n",
       "      <th>Volume</th>\n",
       "    </tr>\n",
       "    <tr>\n",
       "      <th>Symbol</th>\n",
       "      <th>Date</th>\n",
       "      <th></th>\n",
       "      <th></th>\n",
       "    </tr>\n",
       "  </thead>\n",
       "  <tbody>\n",
       "    <tr>\n",
       "      <th>AMZN</th>\n",
       "      <th>02/06/2020</th>\n",
       "      <td>2.472.409.912.109.370</td>\n",
       "      <td>2529900</td>\n",
       "    </tr>\n",
       "    <tr>\n",
       "      <th>GOOGL</th>\n",
       "      <th>02/06/2020</th>\n",
       "      <td>144.231.005.859.375</td>\n",
       "      <td>1172100</td>\n",
       "    </tr>\n",
       "  </tbody>\n",
       "</table>\n",
       "</div>"
      ],
      "text/plain": [
       "                                    Close    Volume\n",
       "Symbol Date                                        \n",
       "AMZN   02/06/2020   2.472.409.912.109.370   2529900\n",
       "GOOGL  02/06/2020     144.231.005.859.375   1172100"
      ]
     },
     "execution_count": 30,
     "metadata": {},
     "output_type": "execute_result"
    }
   ],
   "source": [
    "all_concat.loc[(slice('AMZN','GOOGL',1), '02/06/2020'), :]"
   ]
  },
  {
   "cell_type": "code",
   "execution_count": 31,
   "metadata": {},
   "outputs": [
    {
     "data": {
      "text/html": [
       "<div>\n",
       "<style scoped>\n",
       "    .dataframe tbody tr th:only-of-type {\n",
       "        vertical-align: middle;\n",
       "    }\n",
       "\n",
       "    .dataframe tbody tr th {\n",
       "        vertical-align: top;\n",
       "    }\n",
       "\n",
       "    .dataframe thead th {\n",
       "        text-align: right;\n",
       "    }\n",
       "</style>\n",
       "<table border=\"1\" class=\"dataframe\">\n",
       "  <thead>\n",
       "    <tr style=\"text-align: right;\">\n",
       "      <th></th>\n",
       "      <th></th>\n",
       "      <th>Close</th>\n",
       "      <th>Volume</th>\n",
       "    </tr>\n",
       "    <tr>\n",
       "      <th>Symbol</th>\n",
       "      <th>Date</th>\n",
       "      <th></th>\n",
       "      <th></th>\n",
       "    </tr>\n",
       "  </thead>\n",
       "  <tbody>\n",
       "    <tr>\n",
       "      <th rowspan=\"5\" valign=\"top\">AMZN</th>\n",
       "      <th>01/06/2020</th>\n",
       "      <td>24.710.400.390.625</td>\n",
       "      <td>2928900</td>\n",
       "    </tr>\n",
       "    <tr>\n",
       "      <th>02/06/2020</th>\n",
       "      <td>2.472.409.912.109.370</td>\n",
       "      <td>2529900</td>\n",
       "    </tr>\n",
       "    <tr>\n",
       "      <th>03/06/2020</th>\n",
       "      <td>247.839.990.234.375</td>\n",
       "      <td>2671000</td>\n",
       "    </tr>\n",
       "    <tr>\n",
       "      <th>04/06/2020</th>\n",
       "      <td>246.060.009.765.625</td>\n",
       "      <td>2948700</td>\n",
       "    </tr>\n",
       "    <tr>\n",
       "      <th>05/06/2020</th>\n",
       "      <td>2483.0</td>\n",
       "      <td>3306400</td>\n",
       "    </tr>\n",
       "  </tbody>\n",
       "</table>\n",
       "</div>"
      ],
      "text/plain": [
       "                                    Close    Volume\n",
       "Symbol Date                                        \n",
       "AMZN   01/06/2020      24.710.400.390.625   2928900\n",
       "       02/06/2020   2.472.409.912.109.370   2529900\n",
       "       03/06/2020     247.839.990.234.375   2671000\n",
       "       04/06/2020     246.060.009.765.625   2948700\n",
       "       05/06/2020                  2483.0   3306400"
      ]
     },
     "execution_count": 31,
     "metadata": {},
     "output_type": "execute_result"
    }
   ],
   "source": [
    "all_concat.head()"
   ]
  },
  {
   "cell_type": "markdown",
   "metadata": {},
   "source": [
    "# Merging and concatenating tidy data"
   ]
  },
  {
   "cell_type": "code",
   "execution_count": 32,
   "metadata": {},
   "outputs": [],
   "source": [
    "# duplica todas as colunas\n",
    "all_concat_columns = pd.concat([amzn, googl, msft], axis=1)"
   ]
  },
  {
   "cell_type": "code",
   "execution_count": 33,
   "metadata": {},
   "outputs": [
    {
     "data": {
      "text/html": [
       "<div>\n",
       "<style scoped>\n",
       "    .dataframe tbody tr th:only-of-type {\n",
       "        vertical-align: middle;\n",
       "    }\n",
       "\n",
       "    .dataframe tbody tr th {\n",
       "        vertical-align: top;\n",
       "    }\n",
       "\n",
       "    .dataframe thead th {\n",
       "        text-align: right;\n",
       "    }\n",
       "</style>\n",
       "<table border=\"1\" class=\"dataframe\">\n",
       "  <thead>\n",
       "    <tr style=\"text-align: right;\">\n",
       "      <th></th>\n",
       "      <th>Date</th>\n",
       "      <th>Close</th>\n",
       "      <th>Volume</th>\n",
       "      <th>Symbol</th>\n",
       "      <th>Date</th>\n",
       "      <th>Close</th>\n",
       "      <th>Volume</th>\n",
       "      <th>Symbol</th>\n",
       "      <th>Date</th>\n",
       "      <th>Close</th>\n",
       "      <th>Volume</th>\n",
       "      <th>Symbol</th>\n",
       "    </tr>\n",
       "  </thead>\n",
       "  <tbody>\n",
       "    <tr>\n",
       "      <th>0</th>\n",
       "      <td>01/06/2020</td>\n",
       "      <td>24.710.400.390.625</td>\n",
       "      <td>2928900</td>\n",
       "      <td>AMZN</td>\n",
       "      <td>01/06/2020</td>\n",
       "      <td>14.348.699.951.171.800</td>\n",
       "      <td>1258100</td>\n",
       "      <td>GOOGL</td>\n",
       "      <td>01/06/2020</td>\n",
       "      <td>1.828.300.018.310.540</td>\n",
       "      <td>22622400</td>\n",
       "      <td>MSFT</td>\n",
       "    </tr>\n",
       "    <tr>\n",
       "      <th>1</th>\n",
       "      <td>02/06/2020</td>\n",
       "      <td>2.472.409.912.109.370</td>\n",
       "      <td>2529900</td>\n",
       "      <td>AMZN</td>\n",
       "      <td>02/06/2020</td>\n",
       "      <td>144.231.005.859.375</td>\n",
       "      <td>1172100</td>\n",
       "      <td>GOOGL</td>\n",
       "      <td>02/06/2020</td>\n",
       "      <td>18.491.000.366.210.900</td>\n",
       "      <td>30794600</td>\n",
       "      <td>MSFT</td>\n",
       "    </tr>\n",
       "    <tr>\n",
       "      <th>2</th>\n",
       "      <td>03/06/2020</td>\n",
       "      <td>247.839.990.234.375</td>\n",
       "      <td>2671000</td>\n",
       "      <td>AMZN</td>\n",
       "      <td>03/06/2020</td>\n",
       "      <td>1439.25</td>\n",
       "      <td>1386600</td>\n",
       "      <td>GOOGL</td>\n",
       "      <td>03/06/2020</td>\n",
       "      <td>18.536.000.061.035.100</td>\n",
       "      <td>27311000</td>\n",
       "      <td>MSFT</td>\n",
       "    </tr>\n",
       "    <tr>\n",
       "      <th>3</th>\n",
       "      <td>04/06/2020</td>\n",
       "      <td>246.060.009.765.625</td>\n",
       "      <td>2948700</td>\n",
       "      <td>AMZN</td>\n",
       "      <td>04/06/2020</td>\n",
       "      <td>1.414.300.048.828.120</td>\n",
       "      <td>1349100</td>\n",
       "      <td>GOOGL</td>\n",
       "      <td>04/06/2020</td>\n",
       "      <td>1.829.199.981.689.450</td>\n",
       "      <td>28761800</td>\n",
       "      <td>MSFT</td>\n",
       "    </tr>\n",
       "    <tr>\n",
       "      <th>4</th>\n",
       "      <td>05/06/2020</td>\n",
       "      <td>2483.0</td>\n",
       "      <td>3306400</td>\n",
       "      <td>AMZN</td>\n",
       "      <td>05/06/2020</td>\n",
       "      <td>144.002.001.953.125</td>\n",
       "      <td>2132100</td>\n",
       "      <td>GOOGL</td>\n",
       "      <td>05/06/2020</td>\n",
       "      <td>1.871.999.969.482.420</td>\n",
       "      <td>39893600</td>\n",
       "      <td>MSFT</td>\n",
       "    </tr>\n",
       "  </tbody>\n",
       "</table>\n",
       "</div>"
      ],
      "text/plain": [
       "         Date                   Close    Volume Symbol        Date  \\\n",
       "0  01/06/2020      24.710.400.390.625   2928900   AMZN  01/06/2020   \n",
       "1  02/06/2020   2.472.409.912.109.370   2529900   AMZN  02/06/2020   \n",
       "2  03/06/2020     247.839.990.234.375   2671000   AMZN  03/06/2020   \n",
       "3  04/06/2020     246.060.009.765.625   2948700   AMZN  04/06/2020   \n",
       "4  05/06/2020                  2483.0   3306400   AMZN  05/06/2020   \n",
       "\n",
       "                     Close    Volume Symbol        Date  \\\n",
       "0   14.348.699.951.171.800   1258100  GOOGL  01/06/2020   \n",
       "1      144.231.005.859.375   1172100  GOOGL  02/06/2020   \n",
       "2                  1439.25   1386600  GOOGL  03/06/2020   \n",
       "3    1.414.300.048.828.120   1349100  GOOGL  04/06/2020   \n",
       "4      144.002.001.953.125   2132100  GOOGL  05/06/2020   \n",
       "\n",
       "                     Close     Volume Symbol  \n",
       "0    1.828.300.018.310.540   22622400   MSFT  \n",
       "1   18.491.000.366.210.900   30794600   MSFT  \n",
       "2   18.536.000.061.035.100   27311000   MSFT  \n",
       "3    1.829.199.981.689.450   28761800   MSFT  \n",
       "4    1.871.999.969.482.420   39893600   MSFT  "
      ]
     },
     "execution_count": 33,
     "metadata": {},
     "output_type": "execute_result"
    }
   ],
   "source": [
    "all_concat_columns.head()"
   ]
  },
  {
   "cell_type": "code",
   "execution_count": null,
   "metadata": {},
   "outputs": [],
   "source": [
    "'''\n",
    "DataFrame acima concatenado pelas colunas é poluído com informações duplicadas, e colunas não identificaveis como por exemplo Close e Volume, não tem relacao direta com o index externo\n",
    "Podendo levar a erros fatais de integridade de dados, utilizando o parametro verify_integrity, garante essa verificacao\n",
    "Se for pra fazer o append por linhas, usar o pandas.concat(), se for por colunas, usar o pandas.merge() existem diferenças cruciais sobre a estrutura e principalmente argumentos\n",
    "concat() é mais performatico que o append() ambos tem a mesma função que é realizar o merge por linhas\n",
    "\n",
    "\n",
    "#Lanca um erro\n",
    "pd.concat([amzn, googl, msft], axis=1, verify_integrity=True)\n",
    "'''\n"
   ]
  },
  {
   "cell_type": "code",
   "execution_count": 35,
   "metadata": {},
   "outputs": [],
   "source": [
    "'''\n",
    "Essa funcao pega o primeiro valor da coluna Symbol, e remove todos as duplicatas, nesse caso todos os valores\n",
    "ja que o dataframe passado tem o nome da empresa como symbol, entao é removido também a coluna symbol,\n",
    "em seguida define a data como index e renomeia as colunas atraves da atribuicao de lista \n",
    "por concatenar o valor de symbol com o nome atual do valor da coluna do dataframe passado\n",
    "'''\n",
    "\n",
    "def new_agg_df(df):\n",
    "\n",
    "    my_list = []\n",
    "    symbol = df['Symbol'].drop_duplicates().values[0]\n",
    "    df.drop(['Symbol'], axis=1, inplace=True)\n",
    "    df.set_index('Date', inplace=True)\n",
    "    my_list = [symbol+'_'+elem for elem in df.columns]\n",
    "    df.columns = my_list\n",
    "    return df"
   ]
  },
  {
   "cell_type": "code",
   "execution_count": 36,
   "metadata": {},
   "outputs": [],
   "source": [
    "#Chama a funcao passando o dataframe original\n",
    "amzn_agg = new_agg_df(amzn)\n",
    "msft_agg = new_agg_df(msft)\n",
    "googl_agg = new_agg_df(googl)"
   ]
  },
  {
   "cell_type": "code",
   "execution_count": 37,
   "metadata": {},
   "outputs": [
    {
     "data": {
      "text/html": [
       "<div>\n",
       "<style scoped>\n",
       "    .dataframe tbody tr th:only-of-type {\n",
       "        vertical-align: middle;\n",
       "    }\n",
       "\n",
       "    .dataframe tbody tr th {\n",
       "        vertical-align: top;\n",
       "    }\n",
       "\n",
       "    .dataframe thead th {\n",
       "        text-align: right;\n",
       "    }\n",
       "</style>\n",
       "<table border=\"1\" class=\"dataframe\">\n",
       "  <thead>\n",
       "    <tr style=\"text-align: right;\">\n",
       "      <th></th>\n",
       "      <th>GOOGL_ Close</th>\n",
       "      <th>GOOGL_Volume</th>\n",
       "    </tr>\n",
       "    <tr>\n",
       "      <th>Date</th>\n",
       "      <th></th>\n",
       "      <th></th>\n",
       "    </tr>\n",
       "  </thead>\n",
       "  <tbody>\n",
       "    <tr>\n",
       "      <th>01/06/2020</th>\n",
       "      <td>14.348.699.951.171.800</td>\n",
       "      <td>1258100</td>\n",
       "    </tr>\n",
       "  </tbody>\n",
       "</table>\n",
       "</div>"
      ],
      "text/plain": [
       "                       GOOGL_ Close   GOOGL_Volume\n",
       "Date                                              \n",
       "01/06/2020   14.348.699.951.171.800        1258100"
      ]
     },
     "execution_count": 37,
     "metadata": {},
     "output_type": "execute_result"
    }
   ],
   "source": [
    "#Temos o dataframe com a identificao de cada coluna individual atrelada ao dataframe original\n",
    "googl_agg.head(1)"
   ]
  },
  {
   "cell_type": "code",
   "execution_count": 41,
   "metadata": {},
   "outputs": [
    {
     "data": {
      "text/html": [
       "<div>\n",
       "<style scoped>\n",
       "    .dataframe tbody tr th:only-of-type {\n",
       "        vertical-align: middle;\n",
       "    }\n",
       "\n",
       "    .dataframe tbody tr th {\n",
       "        vertical-align: top;\n",
       "    }\n",
       "\n",
       "    .dataframe thead th {\n",
       "        text-align: right;\n",
       "    }\n",
       "</style>\n",
       "<table border=\"1\" class=\"dataframe\">\n",
       "  <thead>\n",
       "    <tr style=\"text-align: right;\">\n",
       "      <th></th>\n",
       "      <th>AMZN_ Close</th>\n",
       "      <th>AMZN_Volume</th>\n",
       "    </tr>\n",
       "    <tr>\n",
       "      <th>Date</th>\n",
       "      <th></th>\n",
       "      <th></th>\n",
       "    </tr>\n",
       "  </thead>\n",
       "  <tbody>\n",
       "    <tr>\n",
       "      <th>01/06/2020</th>\n",
       "      <td>24.710.400.390.625</td>\n",
       "      <td>2928900</td>\n",
       "    </tr>\n",
       "    <tr>\n",
       "      <th>02/06/2020</th>\n",
       "      <td>2.472.409.912.109.370</td>\n",
       "      <td>2529900</td>\n",
       "    </tr>\n",
       "    <tr>\n",
       "      <th>03/06/2020</th>\n",
       "      <td>247.839.990.234.375</td>\n",
       "      <td>2671000</td>\n",
       "    </tr>\n",
       "    <tr>\n",
       "      <th>04/06/2020</th>\n",
       "      <td>246.060.009.765.625</td>\n",
       "      <td>2948700</td>\n",
       "    </tr>\n",
       "    <tr>\n",
       "      <th>05/06/2020</th>\n",
       "      <td>2483.0</td>\n",
       "      <td>3306400</td>\n",
       "    </tr>\n",
       "  </tbody>\n",
       "</table>\n",
       "</div>"
      ],
      "text/plain": [
       "                       AMZN_ Close   AMZN_Volume\n",
       "Date                                            \n",
       "01/06/2020      24.710.400.390.625       2928900\n",
       "02/06/2020   2.472.409.912.109.370       2529900\n",
       "03/06/2020     247.839.990.234.375       2671000\n",
       "04/06/2020     246.060.009.765.625       2948700\n",
       "05/06/2020                  2483.0       3306400"
      ]
     },
     "execution_count": 41,
     "metadata": {},
     "output_type": "execute_result"
    }
   ],
   "source": [
    "amzn.head()"
   ]
  },
  {
   "cell_type": "code",
   "execution_count": 42,
   "metadata": {},
   "outputs": [
    {
     "data": {
      "text/html": [
       "<div>\n",
       "<style scoped>\n",
       "    .dataframe tbody tr th:only-of-type {\n",
       "        vertical-align: middle;\n",
       "    }\n",
       "\n",
       "    .dataframe tbody tr th {\n",
       "        vertical-align: top;\n",
       "    }\n",
       "\n",
       "    .dataframe thead th {\n",
       "        text-align: right;\n",
       "    }\n",
       "</style>\n",
       "<table border=\"1\" class=\"dataframe\">\n",
       "  <thead>\n",
       "    <tr style=\"text-align: right;\">\n",
       "      <th></th>\n",
       "      <th>MSFT_ Close</th>\n",
       "      <th>MSFT_Volume</th>\n",
       "    </tr>\n",
       "    <tr>\n",
       "      <th>Date</th>\n",
       "      <th></th>\n",
       "      <th></th>\n",
       "    </tr>\n",
       "  </thead>\n",
       "  <tbody>\n",
       "    <tr>\n",
       "      <th>01/06/2020</th>\n",
       "      <td>1.828.300.018.310.540</td>\n",
       "      <td>22622400</td>\n",
       "    </tr>\n",
       "    <tr>\n",
       "      <th>02/06/2020</th>\n",
       "      <td>18.491.000.366.210.900</td>\n",
       "      <td>30794600</td>\n",
       "    </tr>\n",
       "    <tr>\n",
       "      <th>03/06/2020</th>\n",
       "      <td>18.536.000.061.035.100</td>\n",
       "      <td>27311000</td>\n",
       "    </tr>\n",
       "    <tr>\n",
       "      <th>04/06/2020</th>\n",
       "      <td>1.829.199.981.689.450</td>\n",
       "      <td>28761800</td>\n",
       "    </tr>\n",
       "    <tr>\n",
       "      <th>05/06/2020</th>\n",
       "      <td>1.871.999.969.482.420</td>\n",
       "      <td>39893600</td>\n",
       "    </tr>\n",
       "  </tbody>\n",
       "</table>\n",
       "</div>"
      ],
      "text/plain": [
       "                        MSFT_ Close   MSFT_Volume\n",
       "Date                                             \n",
       "01/06/2020    1.828.300.018.310.540      22622400\n",
       "02/06/2020   18.491.000.366.210.900      30794600\n",
       "03/06/2020   18.536.000.061.035.100      27311000\n",
       "04/06/2020    1.829.199.981.689.450      28761800\n",
       "05/06/2020    1.871.999.969.482.420      39893600"
      ]
     },
     "execution_count": 42,
     "metadata": {},
     "output_type": "execute_result"
    }
   ],
   "source": [
    "msft.head()"
   ]
  },
  {
   "cell_type": "code",
   "execution_count": 38,
   "metadata": {},
   "outputs": [
    {
     "data": {
      "text/html": [
       "<div>\n",
       "<style scoped>\n",
       "    .dataframe tbody tr th:only-of-type {\n",
       "        vertical-align: middle;\n",
       "    }\n",
       "\n",
       "    .dataframe tbody tr th {\n",
       "        vertical-align: top;\n",
       "    }\n",
       "\n",
       "    .dataframe thead th {\n",
       "        text-align: right;\n",
       "    }\n",
       "</style>\n",
       "<table border=\"1\" class=\"dataframe\">\n",
       "  <thead>\n",
       "    <tr style=\"text-align: right;\">\n",
       "      <th></th>\n",
       "      <th>Date</th>\n",
       "      <th>AMZN_ Close</th>\n",
       "      <th>AMZN_Volume</th>\n",
       "      <th>MSFT_ Close</th>\n",
       "      <th>MSFT_Volume</th>\n",
       "    </tr>\n",
       "  </thead>\n",
       "  <tbody>\n",
       "    <tr>\n",
       "      <th>0</th>\n",
       "      <td>01/06/2020</td>\n",
       "      <td>24.710.400.390.625</td>\n",
       "      <td>2928900</td>\n",
       "      <td>1.828.300.018.310.540</td>\n",
       "      <td>22622400</td>\n",
       "    </tr>\n",
       "    <tr>\n",
       "      <th>1</th>\n",
       "      <td>02/06/2020</td>\n",
       "      <td>2.472.409.912.109.370</td>\n",
       "      <td>2529900</td>\n",
       "      <td>18.491.000.366.210.900</td>\n",
       "      <td>30794600</td>\n",
       "    </tr>\n",
       "    <tr>\n",
       "      <th>2</th>\n",
       "      <td>03/06/2020</td>\n",
       "      <td>247.839.990.234.375</td>\n",
       "      <td>2671000</td>\n",
       "      <td>18.536.000.061.035.100</td>\n",
       "      <td>27311000</td>\n",
       "    </tr>\n",
       "    <tr>\n",
       "      <th>3</th>\n",
       "      <td>04/06/2020</td>\n",
       "      <td>246.060.009.765.625</td>\n",
       "      <td>2948700</td>\n",
       "      <td>1.829.199.981.689.450</td>\n",
       "      <td>28761800</td>\n",
       "    </tr>\n",
       "    <tr>\n",
       "      <th>4</th>\n",
       "      <td>05/06/2020</td>\n",
       "      <td>2483.0</td>\n",
       "      <td>3306400</td>\n",
       "      <td>1.871.999.969.482.420</td>\n",
       "      <td>39893600</td>\n",
       "    </tr>\n",
       "  </tbody>\n",
       "</table>\n",
       "</div>"
      ],
      "text/plain": [
       "         Date             AMZN_ Close   AMZN_Volume              MSFT_ Close   \\\n",
       "0  01/06/2020      24.710.400.390.625       2928900    1.828.300.018.310.540    \n",
       "1  02/06/2020   2.472.409.912.109.370       2529900   18.491.000.366.210.900    \n",
       "2  03/06/2020     247.839.990.234.375       2671000   18.536.000.061.035.100    \n",
       "3  04/06/2020     246.060.009.765.625       2948700    1.829.199.981.689.450    \n",
       "4  05/06/2020                  2483.0       3306400    1.871.999.969.482.420    \n",
       "\n",
       "   MSFT_Volume  \n",
       "0     22622400  \n",
       "1     30794600  \n",
       "2     27311000  \n",
       "3     28761800  \n",
       "4     39893600  "
      ]
     },
     "execution_count": 38,
     "metadata": {},
     "output_type": "execute_result"
    }
   ],
   "source": [
    "#Resetando o index dos dataframes, através do argumento on, especifica-se qual sera o novo index que é compartilhado por ambos os dataframes\n",
    "#how é a clausula join pesquisar se sao os mesmos do SQL (inner, left, right, ...)\n",
    "#é possível também especificar diferentes index para cada dataframe right_on, left_on\n",
    "#quando nao se reseta o index, podemos estipular qual index vai se manter atraves somente do argumento left=True, right=True\n",
    "amzn_agg.reset_index().merge(msft_agg.reset_index(), how='inner', on='Date').head()"
   ]
  },
  {
   "cell_type": "code",
   "execution_count": null,
   "metadata": {},
   "outputs": [],
   "source": [
    "all_merge_df = amzn_agg.merge(msft_agg, left_index=True, right_index=True).merge(googl_agg, left_index=True, right_index=True)\n",
    "\n",
    "all_merge_df.head()"
   ]
  },
  {
   "cell_type": "markdown",
   "metadata": {},
   "source": [
    "# Transformation of a dataset"
   ]
  },
  {
   "cell_type": "code",
   "execution_count": null,
   "metadata": {},
   "outputs": [],
   "source": [
    "#Todos os dataframes concatenados por linhas, sem index\n",
    "all_df.head()"
   ]
  },
  {
   "cell_type": "markdown",
   "metadata": {},
   "source": [
    "## The pivot method"
   ]
  },
  {
   "cell_type": "code",
   "execution_count": null,
   "metadata": {},
   "outputs": [],
   "source": [
    "'''\n",
    "O index é a coluna que sera o index do dataframe pivot, a coluna, significa a coluna do dataframe no qual o pivot sera executado e mostrar os valores\n",
    "e values, e qual a coluna do df original, que devera ser mostrado como valores da coluna estipulada no columns para o pivot\n",
    "'''\n",
    "pivot_close = all_df.pivot(index='Date', columns='Symbol', values='Close').sort_index()"
   ]
  },
  {
   "cell_type": "code",
   "execution_count": null,
   "metadata": {},
   "outputs": [],
   "source": [
    "pivot_close.head()"
   ]
  },
  {
   "cell_type": "code",
   "execution_count": null,
   "metadata": {},
   "outputs": [],
   "source": [
    "pivot_close_volume = all_df.pivot(index='Date', columns='Symbol').sort_index()"
   ]
  },
  {
   "cell_type": "code",
   "execution_count": null,
   "metadata": {},
   "outputs": [],
   "source": [
    "pivot_close_volume.head()"
   ]
  },
  {
   "cell_type": "code",
   "execution_count": null,
   "metadata": {},
   "outputs": [],
   "source": [
    "#Pesquisar diferença entre unstack e pivot -> Segundo aula quando tiver multi-index dataframe é melhor utilizar o unstack\n",
    "another_df = all_df.set_index(['Symbol', 'Date'])\n",
    "unstacked_df = another_df.unstack(level='Symbol')\n",
    "unstacked_df.head()"
   ]
  },
  {
   "cell_type": "code",
   "execution_count": null,
   "metadata": {},
   "outputs": [],
   "source": [
    "unstacked_df.stack(level='Symbol').head()"
   ]
  },
  {
   "cell_type": "code",
   "execution_count": null,
   "metadata": {},
   "outputs": [],
   "source": [
    "stack_df = unstacked_df.stack(level='Symbol')\n",
    "swapped_df = stack_df.swaplevel('Symbol', 'Date')\n",
    "swapped_df.head()"
   ]
  },
  {
   "cell_type": "code",
   "execution_count": null,
   "metadata": {},
   "outputs": [],
   "source": [
    "swapped_df.sort_index().head()"
   ]
  },
  {
   "cell_type": "markdown",
   "metadata": {},
   "source": [
    "# Melting with Pandas"
   ]
  },
  {
   "cell_type": "code",
   "execution_count": null,
   "metadata": {},
   "outputs": [],
   "source": [
    "all_df.shape"
   ]
  },
  {
   "cell_type": "code",
   "execution_count": null,
   "metadata": {},
   "outputs": [],
   "source": [
    "#Pesquisar melhor o Melt\n",
    "all_df.melt(id_vars=['Symbol', 'Date'])"
   ]
  },
  {
   "cell_type": "markdown",
   "metadata": {},
   "source": [
    "## Aggregating results with Pandas"
   ]
  },
  {
   "cell_type": "code",
   "execution_count": null,
   "metadata": {},
   "outputs": [],
   "source": [
    "all_df.head(1)"
   ]
  },
  {
   "cell_type": "code",
   "execution_count": null,
   "metadata": {},
   "outputs": [],
   "source": [
    "# ValueError: Unable to parse string \"24.710.400.390.625\" at position 0\n",
    "all_df['Close'] = pd.to_numeric(all_df['Close'])"
   ]
  },
  {
   "cell_type": "code",
   "execution_count": null,
   "metadata": {},
   "outputs": [],
   "source": [
    "pivot_close = all_df.pivot(\n",
    "    index='Symbol', \n",
    "    columns='Date', \n",
    "    values='Volume'\n",
    ").sort_index().reset_index()\n",
    "\n",
    "mean_pivot = pd.DataFrame()\n",
    "mean_pivot['Symbol'] = pivot_close['Symbol'].to_list()"
   ]
  },
  {
   "cell_type": "code",
   "execution_count": null,
   "metadata": {},
   "outputs": [],
   "source": [
    "#Por alguma razão esta dando erro de conversão, tentei separadamente aplicar o dtypes antes no all_df mas deu erro mesmo assim, pesquisar depois o erro\n",
    "\n",
    "#Erro esta na formatacao do numero em Close, pois ao substituir por Volume funcionou\n",
    "\n",
    "mean_pivot['average_price'] = pivot_close.set_index('Symbol').apply(\n",
    "    lambda x: x.mean(), axis=1\n",
    ").to_list()"
   ]
  },
  {
   "cell_type": "code",
   "execution_count": null,
   "metadata": {},
   "outputs": [],
   "source": [
    "mean_pivot.set_index('Symbol')"
   ]
  },
  {
   "cell_type": "code",
   "execution_count": null,
   "metadata": {},
   "outputs": [],
   "source": [
    "mean_pivot.head()"
   ]
  },
  {
   "cell_type": "code",
   "execution_count": null,
   "metadata": {},
   "outputs": [],
   "source": [
    "#Por alguma razao os valores na coluna Close nos arquivos FF estao dando problema, pois ao trocar para volume funcionou\n",
    "all_df.pivot_table(\n",
    "    values='Volume',\n",
    "    index='Symbol',\n",
    "    aggfunc='mean',\n",
    ")"
   ]
  },
  {
   "cell_type": "code",
   "execution_count": null,
   "metadata": {},
   "outputs": [],
   "source": [
    "all_df.pivot_table(\n",
    "    index='Symbol',\n",
    "    aggfunc=['mean','median','max','min','std'],\n",
    ")"
   ]
  },
  {
   "cell_type": "markdown",
   "metadata": {},
   "source": [
    "## Group by"
   ]
  },
  {
   "cell_type": "code",
   "execution_count": null,
   "metadata": {},
   "outputs": [],
   "source": [
    "#a coluna close nao funciona para as funcoes que tratam numeros, por isso erro no mean e median\n",
    "grouped_stocks = all_df.groupby('Symbol')['Close'].max()\n",
    "grouped_stocks\n",
    "\n",
    "#Saida e um Series, usar o to_frame para transformar em um dataframe"
   ]
  },
  {
   "cell_type": "code",
   "execution_count": null,
   "metadata": {},
   "outputs": [],
   "source": [
    "grouped_stocks.to_frame()"
   ]
  },
  {
   "cell_type": "code",
   "execution_count": null,
   "metadata": {},
   "outputs": [],
   "source": [
    "all_df.groupby('Symbol')['Close'].agg(['max', 'min',])"
   ]
  },
  {
   "cell_type": "code",
   "execution_count": null,
   "metadata": {},
   "outputs": [],
   "source": [
    "#possivel tambem utilizar funcoes de agregacao por cada coluna por um tipo diferente de agregacao\n",
    "all_df.groupby('Symbol').agg({'Close' : ['max', 'min',], 'Volume' : ['median', 'max']})"
   ]
  },
  {
   "cell_type": "markdown",
   "metadata": {},
   "source": [
    "# Plotting results with Pandas"
   ]
  },
  {
   "cell_type": "code",
   "execution_count": null,
   "metadata": {},
   "outputs": [],
   "source": [
    "import matplotlib.pyplot as plt"
   ]
  },
  {
   "cell_type": "code",
   "execution_count": null,
   "metadata": {},
   "outputs": [],
   "source": []
  }
 ],
 "metadata": {
  "kernelspec": {
   "display_name": "Python 3",
   "language": "python",
   "name": "python3"
  },
  "language_info": {
   "codemirror_mode": {
    "name": "ipython",
    "version": 3
   },
   "file_extension": ".py",
   "mimetype": "text/x-python",
   "name": "python",
   "nbconvert_exporter": "python",
   "pygments_lexer": "ipython3",
   "version": "3.9.13"
  },
  "orig_nbformat": 4,
  "vscode": {
   "interpreter": {
    "hash": "0c1f62c82bb56591ac936d53453301766eb92305bf3878cc3736aaa64eb60126"
   }
  }
 },
 "nbformat": 4,
 "nbformat_minor": 2
}
