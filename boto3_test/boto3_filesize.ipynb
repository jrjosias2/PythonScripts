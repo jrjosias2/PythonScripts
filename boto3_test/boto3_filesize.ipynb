{
 "cells": [
  {
   "cell_type": "code",
   "execution_count": 13,
   "metadata": {},
   "outputs": [],
   "source": [
    "import boto3\n",
    "import io\n",
    "import os\n",
    "\n",
    "s3_client = boto3.client('s3')"
   ]
  },
  {
   "cell_type": "code",
   "execution_count": 17,
   "metadata": {},
   "outputs": [
    {
     "name": "stdout",
     "output_type": "stream",
     "text": [
      "0\n"
     ]
    }
   ],
   "source": [
    "output = os.system('ls')\n",
    "\n",
    "print(output)"
   ]
  },
  {
   "cell_type": "code",
   "execution_count": 3,
   "metadata": {},
   "outputs": [],
   "source": [
    "response = s3_client.list_buckets()"
   ]
  },
  {
   "cell_type": "code",
   "execution_count": 4,
   "metadata": {},
   "outputs": [
    {
     "name": "stdout",
     "output_type": "stream",
     "text": [
      "{'ResponseMetadata': {'RequestId': 'NJC6GTNN4YHNF5T9', 'HostId': 'ShjrW7DOHvaG7kApLBK4mX+YU2iHlq2RqbuZdWv44PHXx7vL2ohnlBJuR/tDG89X/kmWBSln1k4=', 'HTTPStatusCode': 200, 'HTTPHeaders': {'x-amz-id-2': 'ShjrW7DOHvaG7kApLBK4mX+YU2iHlq2RqbuZdWv44PHXx7vL2ohnlBJuR/tDG89X/kmWBSln1k4=', 'x-amz-request-id': 'NJC6GTNN4YHNF5T9', 'date': 'Mon, 13 Nov 2023 13:55:24 GMT', 'content-type': 'application/xml', 'transfer-encoding': 'chunked', 'server': 'AmazonS3'}, 'RetryAttempts': 0}, 'Buckets': [{'Name': 'bda-demo-rep-source', 'CreationDate': datetime.datetime(2023, 10, 28, 23, 0, 55, tzinfo=tzutc())}, {'Name': 'bda-demo-rep-target', 'CreationDate': datetime.datetime(2023, 10, 28, 23, 2, 2, tzinfo=tzutc())}, {'Name': 'bda-demo1', 'CreationDate': datetime.datetime(2023, 10, 28, 21, 53, 17, tzinfo=tzutc())}, {'Name': 'bda-demo2', 'CreationDate': datetime.datetime(2023, 10, 28, 22, 17, 22, tzinfo=tzutc())}, {'Name': 'my-matillion-bucket', 'CreationDate': datetime.datetime(2023, 10, 11, 22, 4, tzinfo=tzutc())}, {'Name': 'snowflake-netflix', 'CreationDate': datetime.datetime(2023, 2, 24, 12, 8, 40, tzinfo=tzutc())}, {'Name': 'snowpipe-examples', 'CreationDate': datetime.datetime(2023, 2, 27, 1, 32, 17, tzinfo=tzutc())}], 'Owner': {'DisplayName': 'jr.josias2', 'ID': '9b0496ad9659b082d0f935ec1acdceda0190c9ff7511d417d152c47af8435eb5'}}\n"
     ]
    }
   ],
   "source": [
    "print(response)"
   ]
  },
  {
   "cell_type": "code",
   "execution_count": 5,
   "metadata": {},
   "outputs": [
    {
     "name": "stdout",
     "output_type": "stream",
     "text": [
      "  bda-demo-rep-source\n",
      "  bda-demo-rep-target\n",
      "  bda-demo1\n",
      "  bda-demo2\n",
      "  my-matillion-bucket\n",
      "  snowflake-netflix\n",
      "  snowpipe-examples\n"
     ]
    }
   ],
   "source": [
    "for bucket in response['Buckets']:\n",
    "    print(f'  {bucket[\"Name\"]}')"
   ]
  },
  {
   "cell_type": "code",
   "execution_count": 8,
   "metadata": {},
   "outputs": [
    {
     "name": "stdout",
     "output_type": "stream",
     "text": [
      "7.4\n"
     ]
    }
   ],
   "source": [
    "response = s3_client.head_object(Bucket='snowflake-netflix', Key='Musical_Instruments_5.json')\n",
    "size = response['ContentLength']\n",
    "size = round(size/1000000, 1)\n",
    "print(size)"
   ]
  },
  {
   "cell_type": "code",
   "execution_count": 9,
   "metadata": {},
   "outputs": [
    {
     "name": "stdout",
     "output_type": "stream",
     "text": [
      "3.0\n"
     ]
    }
   ],
   "source": [
    "response = s3_client.head_object(Bucket='snowflake-netflix', Key='netflix_titles.csv')\n",
    "size = response['ContentLength']\n",
    "size = round(size/1000000, 1)\n",
    "print(size)"
   ]
  },
  {
   "cell_type": "code",
   "execution_count": 12,
   "metadata": {},
   "outputs": [
    {
     "name": "stdout",
     "output_type": "stream",
     "text": [
      "[{'Key': 'Musical_Instruments_5.json', 'LastModified': datetime.datetime(2023, 2, 24, 12, 10, 17, tzinfo=tzutc()), 'ETag': '\"078862e68091de3d02e245b1c4e688bd\"', 'Size': 7445886, 'StorageClass': 'STANDARD'}, {'Key': 'netflix_titles.csv', 'LastModified': datetime.datetime(2023, 2, 24, 12, 10, 19, tzinfo=tzutc()), 'ETag': '\"a94571f753d9808965a84f0632148294\"', 'Size': 3000491, 'StorageClass': 'STANDARD'}]\n"
     ]
    }
   ],
   "source": [
    "response_contents = s3_client.list_objects_v2(Bucket='snowflake-netflix').get('Contents')\n",
    "\n",
    "print(response_contents)"
   ]
  },
  {
   "cell_type": "code",
   "execution_count": 7,
   "metadata": {},
   "outputs": [
    {
     "ename": "ClientError",
     "evalue": "An error occurred (AccessDenied) when calling the GetObjectAttributes operation: Access Denied",
     "output_type": "error",
     "traceback": [
      "\u001b[1;31m---------------------------------------------------------------------------\u001b[0m",
      "\u001b[1;31mClientError\u001b[0m                               Traceback (most recent call last)",
      "\u001b[1;32mc:\\Users\\jrjos\\Documents\\Python Scripts\\PythonScripts\\boto3_test\\boto3_filesize.ipynb Cell 6\u001b[0m line \u001b[0;36m3\n\u001b[0;32m      <a href='vscode-notebook-cell:/c%3A/Users/jrjos/Documents/Python%20Scripts/PythonScripts/boto3_test/boto3_filesize.ipynb#W6sZmlsZQ%3D%3D?line=0'>1</a>\u001b[0m \u001b[39m#Por alguma razao da erro com o perfil default -> root, pela CLI tambem da o mesmo erro, quando eu especifico outro perfil com as permissoes, o retorno eh positivo\u001b[39;00m\n\u001b[0;32m      <a href='vscode-notebook-cell:/c%3A/Users/jrjos/Documents/Python%20Scripts/PythonScripts/boto3_test/boto3_filesize.ipynb#W6sZmlsZQ%3D%3D?line=1'>2</a>\u001b[0m \u001b[39m#Porem o erro permanece, ha uma diferenca no tamanho do objeto listado no console, e retornado pelo CLI/SDK\u001b[39;00m\n\u001b[1;32m----> <a href='vscode-notebook-cell:/c%3A/Users/jrjos/Documents/Python%20Scripts/PythonScripts/boto3_test/boto3_filesize.ipynb#W6sZmlsZQ%3D%3D?line=2'>3</a>\u001b[0m response \u001b[39m=\u001b[39m s3_client\u001b[39m.\u001b[39;49mget_object_attributes(Bucket\u001b[39m=\u001b[39;49m\u001b[39m'\u001b[39;49m\u001b[39msnowflake-netflix\u001b[39;49m\u001b[39m'\u001b[39;49m, Key\u001b[39m=\u001b[39;49m\u001b[39m'\u001b[39;49m\u001b[39mMusical_Instruments_5.json\u001b[39;49m\u001b[39m'\u001b[39;49m, ObjectAttributes\u001b[39m=\u001b[39;49m[\n\u001b[0;32m      <a href='vscode-notebook-cell:/c%3A/Users/jrjos/Documents/Python%20Scripts/PythonScripts/boto3_test/boto3_filesize.ipynb#W6sZmlsZQ%3D%3D?line=3'>4</a>\u001b[0m         \u001b[39m'\u001b[39;49m\u001b[39mETag\u001b[39;49m\u001b[39m'\u001b[39;49m,\u001b[39m'\u001b[39;49m\u001b[39mChecksum\u001b[39;49m\u001b[39m'\u001b[39;49m,\u001b[39m'\u001b[39;49m\u001b[39mObjectParts\u001b[39;49m\u001b[39m'\u001b[39;49m,\u001b[39m'\u001b[39;49m\u001b[39mStorageClass\u001b[39;49m\u001b[39m'\u001b[39;49m,\u001b[39m'\u001b[39;49m\u001b[39mObjectSize\u001b[39;49m\u001b[39m'\u001b[39;49m])\n\u001b[0;32m      <a href='vscode-notebook-cell:/c%3A/Users/jrjos/Documents/Python%20Scripts/PythonScripts/boto3_test/boto3_filesize.ipynb#W6sZmlsZQ%3D%3D?line=5'>6</a>\u001b[0m \u001b[39mprint\u001b[39m(response)\n",
      "File \u001b[1;32mc:\\Users\\jrjos\\AppData\\Local\\Programs\\Python\\Python39\\lib\\site-packages\\botocore\\client.py:508\u001b[0m, in \u001b[0;36mClientCreator._create_api_method.<locals>._api_call\u001b[1;34m(self, *args, **kwargs)\u001b[0m\n\u001b[0;32m    504\u001b[0m     \u001b[39mraise\u001b[39;00m \u001b[39mTypeError\u001b[39;00m(\n\u001b[0;32m    505\u001b[0m         \u001b[39mf\u001b[39m\u001b[39m\"\u001b[39m\u001b[39m{\u001b[39;00mpy_operation_name\u001b[39m}\u001b[39;00m\u001b[39m() only accepts keyword arguments.\u001b[39m\u001b[39m\"\u001b[39m\n\u001b[0;32m    506\u001b[0m     )\n\u001b[0;32m    507\u001b[0m \u001b[39m# The \"self\" in this scope is referring to the BaseClient.\u001b[39;00m\n\u001b[1;32m--> 508\u001b[0m \u001b[39mreturn\u001b[39;00m \u001b[39mself\u001b[39;49m\u001b[39m.\u001b[39;49m_make_api_call(operation_name, kwargs)\n",
      "File \u001b[1;32mc:\\Users\\jrjos\\AppData\\Local\\Programs\\Python\\Python39\\lib\\site-packages\\botocore\\client.py:911\u001b[0m, in \u001b[0;36mBaseClient._make_api_call\u001b[1;34m(self, operation_name, api_params)\u001b[0m\n\u001b[0;32m    909\u001b[0m     error_code \u001b[39m=\u001b[39m parsed_response\u001b[39m.\u001b[39mget(\u001b[39m\"\u001b[39m\u001b[39mError\u001b[39m\u001b[39m\"\u001b[39m, {})\u001b[39m.\u001b[39mget(\u001b[39m\"\u001b[39m\u001b[39mCode\u001b[39m\u001b[39m\"\u001b[39m)\n\u001b[0;32m    910\u001b[0m     error_class \u001b[39m=\u001b[39m \u001b[39mself\u001b[39m\u001b[39m.\u001b[39mexceptions\u001b[39m.\u001b[39mfrom_code(error_code)\n\u001b[1;32m--> 911\u001b[0m     \u001b[39mraise\u001b[39;00m error_class(parsed_response, operation_name)\n\u001b[0;32m    912\u001b[0m \u001b[39melse\u001b[39;00m:\n\u001b[0;32m    913\u001b[0m     \u001b[39mreturn\u001b[39;00m parsed_response\n",
      "\u001b[1;31mClientError\u001b[0m: An error occurred (AccessDenied) when calling the GetObjectAttributes operation: Access Denied"
     ]
    }
   ],
   "source": [
    "#Por alguma razao da erro com o perfil default -> root, pela CLI tambem da o mesmo erro, quando eu especifico outro perfil com as permissoes, o retorno eh positivo\n",
    "#Porem o erro permanece, ha uma diferenca no tamanho do objeto listado no console, e retornado pelo CLI/SDK\n",
    "response = s3_client.get_object_attributes(Bucket='snowflake-netflix', Key='Musical_Instruments_5.json', ObjectAttributes=[\n",
    "        'ETag','Checksum','ObjectParts','StorageClass','ObjectSize'])\n",
    "\n",
    "print(response)"
   ]
  }
 ],
 "metadata": {
  "kernelspec": {
   "display_name": "Python 3",
   "language": "python",
   "name": "python3"
  },
  "language_info": {
   "codemirror_mode": {
    "name": "ipython",
    "version": 3
   },
   "file_extension": ".py",
   "mimetype": "text/x-python",
   "name": "python",
   "nbconvert_exporter": "python",
   "pygments_lexer": "ipython3",
   "version": "3.9.12"
  }
 },
 "nbformat": 4,
 "nbformat_minor": 2
}
